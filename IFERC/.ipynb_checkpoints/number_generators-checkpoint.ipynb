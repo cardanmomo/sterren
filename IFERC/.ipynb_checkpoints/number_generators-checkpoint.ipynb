{
 "cells": [
  {
   "cell_type": "code",
   "execution_count": 2,
   "metadata": {},
   "outputs": [],
   "source": [
    "import numpy as np"
   ]
  },
  {
   "cell_type": "code",
   "execution_count": null,
   "metadata": {},
   "outputs": [],
   "source": [
    "## IDL Diagnostic kx space generator for amplitude spectra\n",
    "nkx0 = 384\n",
    "import numpy as np\n",
    "np.set_printoptions(formatter={'float': '{: 0.0f}'.format})\n",
    "a = np.linspace(0, (nkx0//2)-1, (nkx0//2)-1)  # nkx0/2 - 1, be careful to neglect the last one\n",
    "for m in range(len(a)):\n",
    "    print(np.array2string(a[m]), end=\",\", flush=True)"
   ]
  },
  {
   "cell_type": "code",
   "execution_count": 3,
   "metadata": {},
   "outputs": [
    {
     "data": {
      "text/plain": [
       "array([ 0.05,  0.10,  0.15,  0.20,  0.25,  0.29,  0.34,  0.39,  0.44,\n",
       "        0.49,  0.54,  0.59,  0.64,  0.69,  0.74,  0.78,  0.83,  0.88,\n",
       "        0.93,  0.98,  1.03,  1.08,  1.13,  1.18,  1.23,  1.27,  1.32,\n",
       "        1.37,  1.42,  1.47,  1.52,  1.57,  1.62,  1.67,  1.72,  1.76,\n",
       "        1.81,  1.86,  1.91,  1.96,  2.01,  2.06,  2.11,  2.16,  2.21,\n",
       "        2.25,  2.30,  2.35,  2.40,  2.45,  2.50,  2.55,  2.60,  2.65,\n",
       "        2.70,  2.74,  2.79,  2.84,  2.89,  2.94,  2.99,  3.04,  3.09,\n",
       "        3.14,  3.19,  3.23,  3.28,  3.33,  3.38,  3.43,  3.48,  3.53,\n",
       "        3.58,  3.63,  3.68,  3.72,  3.77,  3.82,  3.87,  3.92,  3.97,\n",
       "        4.02,  4.07,  4.12,  4.17,  4.21,  4.26,  4.31,  4.36,  4.41,\n",
       "        4.46,  4.51,  4.56,  4.61,  4.66,  4.70,  4.75,  4.80,  4.85,\n",
       "        4.90,  4.95,  5.00,  5.05,  5.10,  5.15,  5.19,  5.24,  5.29,\n",
       "        5.34,  5.39,  5.44,  5.49,  5.54,  5.59,  5.64,  5.69,  5.73,\n",
       "        5.78,  5.83,  5.88,  5.93,  5.98,  6.03,  6.08,  6.13,  6.18,\n",
       "        6.22,  6.27,  6.32,  6.37,  6.42,  6.47,  6.52,  6.57,  6.62,\n",
       "        6.67,  6.71,  6.76,  6.81,  6.86,  6.91,  6.96,  7.01,  7.06,\n",
       "        7.11,  7.16,  7.20,  7.25,  7.30,  7.35,  7.40,  7.45,  7.50,\n",
       "        7.55,  7.60,  7.65,  7.69,  7.74,  7.79,  7.84,  7.89,  7.94,\n",
       "        7.99,  8.04,  8.09,  8.14,  8.18,  8.23,  8.28,  8.33,  8.38,\n",
       "        8.43,  8.48,  8.53,  8.58,  8.63,  8.67,  8.72,  8.77,  8.82,\n",
       "        8.87,  8.92,  8.97,  9.02,  9.07,  9.12,  9.16,  9.21,  9.26,\n",
       "        9.31,  9.36])"
      ]
     },
     "execution_count": 3,
     "metadata": {},
     "output_type": "execute_result"
    }
   ],
   "source": [
    "Lx = 128.205\n",
    "nkx0 = 384\n",
    "np.linspace((np.pi*2/Lx), (np.pi*2/Lx)*((nkx0//2)-1), (nkx0//2)-1)"
   ]
  },
  {
   "cell_type": "code",
   "execution_count": 4,
   "metadata": {},
   "outputs": [
    {
     "name": "stdout",
     "output_type": "stream",
     "text": [
      " 200.000, 166.667, 142.857, 125.000, 111.111, 100.000, 90.909, 83.333, 76.923, 71.429, 66.667, 62.500, 58.824, 55.556, 52.632, 50.000,\n",
      "[ 0.031,  0.038,  0.044,  0.050,  0.057,  0.063,  0.069,  0.075,  0.082,\n",
      "  0.088,  0.094,  0.101,  0.107,  0.113,  0.119,  0.126]\n"
     ]
    }
   ],
   "source": [
    "## lx space generator for linear zonal flows from input parameters\n",
    "#kx_minimum = 0.049\n",
    "Lxmax = 1000\n",
    "kx_minimum = 2*np.pi/Lxmax\n",
    "nkx0 = 96\n",
    "\n",
    "np.set_printoptions(formatter={'float': '{: 0.3f}'.format})\n",
    "a = np.linspace((kx_minimum), (kx_minimum)*((nkx0//2)-1), (nkx0//2)-1)\n",
    "b = (2*np.pi)/a\n",
    "for m in range(4, 20):\n",
    "    print(np.array2string(b[m]), end=\",\", flush=True)\n",
    "print()\n",
    "print(np.array2string(a[4:20], separator=', '))"
   ]
  },
  {
   "cell_type": "code",
   "execution_count": 5,
   "metadata": {},
   "outputs": [
    {
     "name": "stdout",
     "output_type": "stream",
     "text": [
      " 1000.0000, 500.0000, 333.3333, 250.0000, 200.0000, 166.6667, 142.8571, 125.0000, 111.1111, 100.0000, 90.9091, 83.3333, 76.9231, 71.4286, 66.6667, 62.5000, 58.8235, 55.5556, 52.6316, 50.0000, 47.6190, 45.4545, 43.4783, 41.6667, 40.0000, 38.4615, 37.0370, 35.7143, 34.4828, 33.3333, 32.2581, 31.2500, 30.3030, 29.4118, 28.5714, 27.7778, 27.0270, 26.3158, 25.6410, 25.0000, 24.3902, 23.8095, 23.2558, 22.7273, 22.2222, 21.7391, 21.2766,\n",
      "[ 0.0063,  0.0126,  0.0188,  0.0251,  0.0314,  0.0377,  0.0440,  0.0503,\n",
      "  0.0565,  0.0628,  0.0691,  0.0754,  0.0817,  0.0880,  0.0942,  0.1005,\n",
      "  0.1068,  0.1131,  0.1194,  0.1257,  0.1319,  0.1382,  0.1445,  0.1508,\n",
      "  0.1571,  0.1634,  0.1696,  0.1759,  0.1822,  0.1885,  0.1948,  0.2011,\n",
      "  0.2073,  0.2136,  0.2199,  0.2262,  0.2325,  0.2388,  0.2450,  0.2513,\n",
      "  0.2576,  0.2639,  0.2702,  0.2765,  0.2827,  0.2890,  0.2953]\n"
     ]
    }
   ],
   "source": [
    "## Lx space generator for linear zonal flows from NL parameters\n",
    "\n",
    "np.set_printoptions(formatter={'float': '{: 0.4f}'.format})\n",
    "a = np.linspace((kx_minimum), (kx_minimum)*((nkx0//2)-1), (nkx0//2)-1)\n",
    "b = (2*np.pi)/a\n",
    "for m in range(len(b)):\n",
    "    print(np.array2string(b[m]), end=\",\", flush=True)\n",
    "print()\n",
    "print(np.array2string(a, separator=', '))"
   ]
  },
  {
   "cell_type": "code",
   "execution_count": 6,
   "metadata": {},
   "outputs": [],
   "source": [
    "# a = np.array([0.005, 0.01, 0.015, 0.02, 0.035, 0.04, 0.045, 0.05, 0.06, 0.07, 0.08, 0.09, 0.1, 0.15, 0.2, 0.25, 0.3, 0.35, 0.4, 0.45, 0.5, 0.6, 0.8, 0.9, 1.0, 1.2, 1.4, 1.6, 1.8, 2.0, 2.4, 2.8, 3.0, 4.0])"
   ]
  },
  {
   "cell_type": "code",
   "execution_count": 15,
   "metadata": {},
   "outputs": [
    {
     "name": "stdout",
     "output_type": "stream",
     "text": [
      " 0.05, 0.10, 0.15, 0.20, 0.25, 0.30, 0.35, 0.40, 0.45, 0.50, 0.55, 0.60, 0.65, 0.70, 0.75, 0.80, 0.85, 0.90, 0.95, 1.00, 1.05, 1.10, 1.15, 1.20, 1.25, 1.30, 1.35, 1.40, 1.45, 1.50, 1.55, 1.60, 1.65, 1.70, 1.75, 1.80, 1.85, 1.90, 1.95, 2.00, 2.05, 2.10, 2.15, 2.20, 2.25, 2.30, 2.35,"
     ]
    }
   ],
   "source": [
    "#print(kyw2[1])\n",
    "#print(len(kyw2[1]))\n",
    "np.set_printoptions(formatter={'float': '{: 0.2f}'.format})\n",
    "nky0 = 96\n",
    "kymin = 0.05\n",
    "a = np.linspace(kymin, (((nky0//2)-1)*kymin), (nky0//2)-1)\n",
    "for m in range(len(a)):\n",
    "    print(np.array2string(a[m]), end=\",\", flush=True)"
   ]
  },
  {
   "cell_type": "code",
   "execution_count": null,
   "metadata": {},
   "outputs": [],
   "source": []
  }
 ],
 "metadata": {
  "kernelspec": {
   "display_name": "Python 3",
   "language": "python",
   "name": "python3"
  },
  "language_info": {
   "codemirror_mode": {
    "name": "ipython",
    "version": 3
   },
   "file_extension": ".py",
   "mimetype": "text/x-python",
   "name": "python",
   "nbconvert_exporter": "python",
   "pygments_lexer": "ipython3",
   "version": "3.6.5"
  }
 },
 "nbformat": 4,
 "nbformat_minor": 2
}
