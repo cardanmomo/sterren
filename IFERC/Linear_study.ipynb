{
 "cells": [
  {
   "cell_type": "code",
   "execution_count": 1,
   "metadata": {},
   "outputs": [],
   "source": [
    "%matplotlib inline\n",
    "%config InlineBackend.figure_format = 'retina'\n",
    "import numpy as np\n",
    "import pylab\n",
    "import math\n",
    "import sys\n",
    "import operator\n",
    "\n",
    "import inspect\n",
    "import lmfit\n",
    "from lmfit import Model\n",
    "import matplotlib.pyplot as plt\n",
    "import matplotlib.image as mpimg\n",
    "from scipy import signal\n",
    "from scipy import fftpack\n",
    "from scipy.integrate import trapz\n",
    "from operator import itemgetter\n",
    "from skimage import util\n",
    "from scipy import stats\n",
    "from numpy import NaN, Inf, arange, isscalar, asarray, array"
   ]
  },
  {
   "cell_type": "code",
   "execution_count": 3,
   "metadata": {
    "scrolled": false
   },
   "outputs": [
    {
     "name": "stdout",
     "output_type": "stream",
     "text": [
      "Weird! It is:  181.56156156156158\n"
     ]
    },
    {
     "data": {
      "image/png": "[encoded data removed]",
      "text/plain": [
       "<Figure size 432x288 with 1 Axes>"
      ]
     },
     "metadata": {
      "image/png": {
       "height": 250,
       "width": 382
      }
     },
     "output_type": "display_data"
    }
   ],
   "source": [
    "sd25 = -0.0516158\n",
    "sd36 = -0.0915604\n",
    "sd5 = -0.1534727\n",
    "sd6 = -0.2010183\n",
    "sd8 = -0.2906768\n",
    "sd9 = -0.3335995\n",
    "his05 = -0.18018580\n",
    "hms036 = -0.075412200\n",
    "hms08 = -0.25370290\n",
    "lms05 = -0.14615960\n",
    "lis05 = -0.1173279\n",
    "lis08 = -0.2201747\n",
    "sd = lis08\n",
    "ky = 0.05\n",
    "def nexc(x, shat=sd, ky=ky):    \n",
    "    if Lx[-1] <= 1:\n",
    "        print('input is kx')\n",
    "        nexc= np.ceil(0.9*(2*np.pi/x)*(shat)*ky)\n",
    "    elif x[-1] >=1:\n",
    "        print('input is Lx')\n",
    "        nexc= np.ceil(0.9*Lx*(shat)*ky)\n",
    "    return nexc\n",
    "def nexc_single(x, shat, ky):\n",
    "    if x <= 1:\n",
    "        #print('input is kx')\n",
    "        nexc= np.ceil(0.9*(2*np.pi/x)*(shat)*ky)\n",
    "    elif x >= 1:\n",
    "        # print('input is Lx')\n",
    "        nexc= np.ceil(x*(shat)*ky)\n",
    "    return nexc\n",
    "\n",
    "#shatspace = np.linspace(-0.2010183, -0.0516158, 1000)\n",
    "\n",
    "Lx_test = np.linspace(10, 300, 1000)\n",
    "#kx_test = np.linspace(0.0006, 0.05, 1000)\n",
    "\n",
    "button = False\n",
    "plt.figure()\n",
    "for n in range(len(Lx_test)):\n",
    "    m = len(Lx_test)-1-n\n",
    "    if nexc_single(Lx_test[m], sd, ky) == -1 and button == False:\n",
    "        print('Weird! It is: ', Lx_test[m])\n",
    "        button = True\n",
    "        #break\n",
    "    plt.scatter(Lx_test[m], nexc_single(Lx_test[m], sd, ky))\n",
    "plt.show()"
   ]
  },
  {
   "cell_type": "code",
   "execution_count": null,
   "metadata": {},
   "outputs": [],
   "source": [
    "plt.figure(figsize=(10, 6))\n",
    "for n in range(1, 17):\n",
    "    if n <= 9:\n",
    "        data = pylab.loadtxt('W7Xsds06/GAM/scan50-200/gamdiagions_000{0}.dat'.format(n))\n",
    "    else:\n",
    "        data = pylab.loadtxt('W7Xsds06/GAM/scan50-200/gamdiagions_00{0}.dat'.format(n))\n",
    "    dat = np.sqrt(data[:, 1]**2 + data[:, 2]**2)\n",
    "    dat0 = np.sqrt(data[0, 1]**2 + data[0, 2]**2)\n",
    "    plt.plot(data[:, 0], dat/dat0, label=b[n+3])\n",
    "#plt.xscale('log')\n",
    "plt.legend()\n",
    "plt.show()"
   ]
  },
  {
   "cell_type": "code",
   "execution_count": null,
   "metadata": {},
   "outputs": [],
   "source": [
    "time = pylab.loadtxt('W7Xsds09/ITGa_NL/omt1_64/gamdiagions_act.dat')[:, 0]\n",
    "chi = pylab.loadtxt('W7Xsds09/ITGa_NL/omt1_64/nrgphasionsChi_es_act.dat')\n",
    "spectra = pylab.loadtxt('W7Xsds09/ITGa_NL/omt1_64/spectraions_act.dat')\n",
    "timechi = pylab.loadtxt('W7Xsds09/ITGa_NL/omt1_64/nrgtstepions_act.dat')\n",
    "## Values to be modified according to the simulation\n",
    "nky0 = 96\n",
    "nkx0 = 32\n",
    "Ro = 5.5079880\n",
    "Lr = 0.5387892\n",
    "factor = ((1/Lr)/(1/Ro))**2\n",
    "kymin = 0.05\n",
    "kxmin = 0.1048\n",
    "tim = len(time)"
   ]
  },
  {
   "cell_type": "code",
   "execution_count": null,
   "metadata": {},
   "outputs": [],
   "source": [
    "time = pylab.loadtxt('W7Xsds08/ITGa_NL/omt2/gamdiagions_act.dat'.format(n))[:, 0]\n",
    "chi = pylab.loadtxt('W7Xsds08/ITGa_NL/omt2/nrgphasionsChi_es_act.dat')\n",
    "spectra = pylab.loadtxt('W7Xsds08/ITGa_NL/omt2/spectraions_act.dat')\n",
    "timechi = pylab.loadtxt('W7Xsds08/ITGa_NL/omt2/nrgtstepions_act.dat')\n",
    "## Values to be modified according to the simulation\n",
    "nky0 = 96\n",
    "nkx0 = 48\n",
    "Ro = 5.5079880\n",
    "Lr = 0.5387892\n",
    "factor = ((1/Lr)/(1/Ro))**2\n",
    "kymin = 0.05\n",
    "kxmin = 0.0913\n",
    "tim = len(time)"
   ]
  },
  {
   "cell_type": "code",
   "execution_count": null,
   "metadata": {},
   "outputs": [],
   "source": [
    "time = pylab.loadtxt('W7Xsds08/ITGa_NL/omt2/gamdiagions_1_act.dat'.format(n))[:, 0]\n",
    "chi = pylab.loadtxt('W7Xsds08/ITGa_NL/omt2/nrgphasionsChi_es_1_act.dat')\n",
    "spectra = pylab.loadtxt('W7Xsds08/ITGa_NL/omt2/spectraions_1_act.dat')\n",
    "timechi = pylab.loadtxt('W7Xsds08/ITGa_NL/omt2/nrgtstepions_1_act.dat')\n",
    "## Values to be modified according to the simulation\n",
    "nky0 = 96\n",
    "nkx0 = 48\n",
    "Ro = 5.5079880\n",
    "Lr = 0.5387892\n",
    "factor = ((1/Lr)/(1/Ro))**2\n",
    "kymin = 0.05\n",
    "kxmin = 0.0913\n",
    "tim = len(time)"
   ]
  },
  {
   "cell_type": "code",
   "execution_count": null,
   "metadata": {},
   "outputs": [],
   "source": [
    "## Just a plot to see how the Chi coefficient looks in .nrg time units\n",
    "plt.figure()\n",
    "plt.plot(timechi[:, 0], chi[:np.int(chi.size/2)])\n",
    "plt.show()"
   ]
  },
  {
   "cell_type": "code",
   "execution_count": null,
   "metadata": {},
   "outputs": [],
   "source": [
    "## Get all the indexes of the timescale of Xi that coincide with the time in the mom file\n",
    "chi2 = np.zeros((tim))\n",
    "timechi2 = np.zeros((tim))\n",
    "for i in range(0, tim):\n",
    "    idx = (np.abs(timechi[:, 0] - time[i])).argmin() \n",
    "    timechi2[i] = timechi[idx, 0]\n",
    "    chi2[i] = chi[idx]\n",
    "plt.figure()\n",
    "plt.plot(timechi2, chi2)\n",
    "plt.show()"
   ]
  },
  {
   "cell_type": "code",
   "execution_count": null,
   "metadata": {},
   "outputs": [],
   "source": [
    "## initialisation of all the placeholders\n",
    "ky = np.zeros((tim, nkx0, nky0))\n",
    "kx = np.zeros((tim, nkx0))\n",
    "phi = np.zeros((tim, nkx0, nky0))\n",
    "St = np.zeros((tim, nky0))\n",
    "T = np.zeros((tim))\n",
    "Sz = np.zeros((tim, nkx0))\n",
    "Z = np.zeros((tim))\n",
    "\n",
    "for m in range(0, nkx0):  # Make a loop over all the kx points\n",
    "    for n in range(0, tim): # Make a loop over all the timesteps\n",
    "        lo = ( 0 + (n*nky0) + (m*tim*nky0) )\n",
    "        hi = ( nky0 + (n*nky0) + (m*tim*nky0) )\n",
    "        ky[n, m] = spectra[lo:hi, 0]  # Save these values according to their position\n",
    "        phi[n, m] = spectra[lo:hi, 1]\n",
    "\n",
    "## Now invert the order of the loops and take the integral with all the timesteps\n",
    "for n in range(0, tim):\n",
    "    for m in range(0, nkx0):\n",
    "        np.add(St[n], phi[n, m-1]*factor/kymin, out=St[n], where=True)\n",
    "    T[n] = (0.5) * trapz(St[n], x=ky[0, 0])\n",
    "    \n",
    "for r in range(0, tim):  # Over all the times, extract the zonal flow component\n",
    "    lo = (nky0*nkx0*tim) + (nkx0*r)  # basis index plus n times the ammount of nkx0\n",
    "    top = lo + nkx0  # take it to the edge\n",
    "    kx[r] = spectra[lo:top, 0]  \n",
    "    Sz[r] = spectra[lo:top, 1] * factor / kxmin\n",
    "    Z[r] = (0.5) * trapz(Sz[r], x=kx[r])  # Notice the 1/2 factor"
   ]
  },
  {
   "cell_type": "code",
   "execution_count": null,
   "metadata": {},
   "outputs": [],
   "source": [
    "## This is just a plot to chech that the values have been assigned correctly\n",
    "plt.figure(figsize=(12, 5))\n",
    "plt.plot(time, T, label='Te')\n",
    "plt.plot(time, Z, label='Zet')\n",
    "plt.plot(time[2:], T[2:]/np.sqrt(Z[2:]), label='T / sqrt Z')\n",
    "plt.xlabel('Time')\n",
    "plt.ylabel('Magnitude (a.u.)')\n",
    "plt.legend()\n",
    "plt.show()"
   ]
  },
  {
   "cell_type": "code",
   "execution_count": null,
   "metadata": {
    "scrolled": false
   },
   "outputs": [],
   "source": [
    "## Now the most important: the graphocs that compare ZF and turbulent oscillations against Xi es\n",
    "import matplotlib.cm as cm\n",
    "plt.figure(figsize=(12, 5))\n",
    "x = T\n",
    "ys = np.sqrt(Z)\n",
    "plt.plot(x, ys, color='k', linewidth=0.2)\n",
    "colors = cm.rainbow(np.linspace(0, 1, len(ys)))\n",
    "for x, y, c in zip(x, ys, colors):\n",
    "    plt.scatter(x, y, color=c)\n",
    "plt.xlabel('T')\n",
    "plt.ylabel('Z$^{1/2}$')\n",
    "plt.show()\n",
    "\n",
    "plt.figure(figsize=(12, 5))\n",
    "x = T\n",
    "ys = chi2\n",
    "plt.plot(x, ys, color='k', linewidth=0.2)\n",
    "colors = cm.rainbow(np.linspace(0, 1, len(ys)))\n",
    "for x, y, c in zip(x, ys, colors):\n",
    "    plt.scatter(x, y, color=c)\n",
    "plt.xlabel('T')\n",
    "plt.ylabel('$\\\\chi$')\n",
    "plt.show()\n",
    "\n",
    "plt.figure(figsize=(12, 5))\n",
    "x = T[2:]/np.sqrt(Z[2:])\n",
    "ys = chi2[2:]\n",
    "plt.plot(x, ys, color='k', linewidth=0.2)\n",
    "colors = cm.rainbow(np.linspace(0, 1, len(ys)))\n",
    "for x, y, c in zip(x, ys, colors):\n",
    "    plt.scatter(x, y, color=c)\n",
    "plt.xlabel('T / Z$^{1/2}$')\n",
    "plt.ylabel('$\\\\chi$')\n",
    "plt.show()"
   ]
  },
  {
   "cell_type": "code",
   "execution_count": null,
   "metadata": {},
   "outputs": [],
   "source": []
  }
 ],
 "metadata": {
  "kernelspec": {
   "display_name": "Python 3",
   "language": "python",
   "name": "python3"
  },
  "language_info": {
   "codemirror_mode": {
    "name": "ipython",
    "version": 3
   },
   "file_extension": ".py",
   "mimetype": "text/x-python",
   "name": "python",
   "nbconvert_exporter": "python",
   "pygments_lexer": "ipython3",
   "version": "3.7.3"
  }
 },
 "nbformat": 4,
 "nbformat_minor": 2
}
