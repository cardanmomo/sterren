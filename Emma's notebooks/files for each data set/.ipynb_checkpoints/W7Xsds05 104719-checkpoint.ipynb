{
 "cells": [
  {
   "cell_type": "code",
   "execution_count": 1,
   "metadata": {},
   "outputs": [
    {
     "name": "stdout",
     "output_type": "stream",
     "text": [
      "loading successful!\n"
     ]
    }
   ],
   "source": [
    "%run C:\\Users\\s162605\\Documents\\Studie\\JAAR3\\BEP\\sterren\\Lissa.ipynb\n",
    "\n",
    "# dit stuk is uit IFERC_ALL\n",
    "def nucleus(E, t, diag=False):\n",
    "    # Peak detection\n",
    "    maxtab, mintab = peakdet(E, 0.001, x=t)\n",
    "    \n",
    "    # A fitting to the peak values to get the decay coefficient:\n",
    "    result = gmodel.fit(E[:150], t=t[:150], decay=10, nan_policy='propagate')\n",
    "\n",
    "    # Can you guess the residual?\n",
    "    if 0.95 <= np.abs(E[-1]/mintab[0, 1]) <= 1.02:\n",
    "        print('residual? :' + str(mintab[0, 1]))\n",
    "        \n",
    "    # Maxpeaks\n",
    "    a = maxtab[0, :]  # Initial point\n",
    "    \n",
    "    if np.shape(maxtab) != (2, 2):  # If there are more points than a and i:\n",
    "        b1 = maxtab[1, :]  # Second Peak\n",
    "        i = maxtab[2, :]            \n",
    "    elif np.shape(maxtab) == (2, 2):\n",
    "        i = maxtab[1, :]\n",
    "        b1 = i\n",
    "        print('i point is the first one')     \n",
    "    \n",
    "    # Minpeaks\n",
    "    b2 = mintab[0, :]  # (Technically) The lowest point\n",
    "       \n",
    "    min_index, min_value = min(enumerate(mintab[:, 1]), key=operator.itemgetter(1))  \n",
    "    f = mintab[min_index, :]  # This determines the minimum peak\n",
    "    \n",
    "    if np.shape(mintab) != (1, 2):\n",
    "        e = mintab[1, :]\n",
    "    else:\n",
    "        e = f\n",
    "\n",
    "    # The initial bump is not detected if the points e & i are both > 0.32\n",
    "    if b1[0] > 60:\n",
    "        i = b1\n",
    "        if i[1] < 0:\n",
    "            i = maxtab[2, :]\n",
    "        e = b2\n",
    "        b1, b2, BR = np.nan, np.nan, np.nan\n",
    "        GR1, GR2, PE2 = np.nan, np.nan, np.nan\n",
    "    else:\n",
    "        BR = np.abs(b2[1] / a[1])                      # Bump ratio\n",
    "        GR1 = np.abs((e[1]-a[1]) / (b2[1]-a[1]))       # Bump growth ratio\n",
    "        GR2 = np.abs(e[1] / b2[1])                     # Growth ratio\n",
    "        PE2 = np.abs(e[0] - b2[0])                     # Bump period\n",
    "\n",
    "    if isinstance(b2, float) and np.shape(mintab) != (1, 2):  # if b2 does not exist and mintab has more than 1 point\n",
    "        o = mintab[1, :]\n",
    "        if o[0] < i[0]:\n",
    "            o = mintab[2, :]\n",
    "        DR = np.abs(o[1] / e[1])                       # Decay ratio\n",
    "        PE = np.abs(o[0] - e[0])                       # Decay period\n",
    "    elif isinstance(b2, float) == False and np.shape(mintab)[0] >=3:  # if b2 exists and the shape of mintab is >=3\n",
    "        o = mintab[2, :]\n",
    "        DR = np.abs(o[1] / e[1])  # Decay ratio\n",
    "        PE = np.abs(o[0] - e[0])  # Decay period\n",
    "    else:\n",
    "        o = np.nan\n",
    "        DR = np.nan  # Decay ratio\n",
    "        PE = np.nan  # Decay period\n",
    "\n",
    "    TP = e[0]                                          # Peak time\n",
    "    OS = np.abs(e[1] / a[1])                           # Overshoot ratio\n",
    "                      \n",
    "    if diag == True:\n",
    "        print('Diag mode on')\n",
    "        \n",
    "        return maxtab, mintab, OS, BR, GR1, GR2, DR, PE, PE2, TP, a, b1, b2, e, i, o\n",
    "    else:\n",
    "\n",
    "        return result, OS, DR, TP"
   ]
  },
  {
   "cell_type": "code",
   "execution_count": 4,
   "metadata": {},
   "outputs": [
    {
     "ename": "NameError",
     "evalue": "name 'data' is not defined",
     "output_type": "error",
     "traceback": [
      "\u001b[1;31m---------------------------------------------------------------------------\u001b[0m",
      "\u001b[1;31mNameError\u001b[0m                                 Traceback (most recent call last)",
      "\u001b[1;32m<ipython-input-4-236b5b3fa708>\u001b[0m in \u001b[0;36m<module>\u001b[1;34m\u001b[0m\n\u001b[0;32m      2\u001b[0m \u001b[1;31m#data = pylab.loadtxt('C:/Users/s162605/Documents/Studie/JAAR3/BEP/sterren/IFERC/W7Xsds05/GAM/104.719/gamdiagions_act.dat')\u001b[0m\u001b[1;33m\u001b[0m\u001b[1;33m\u001b[0m\u001b[1;33m\u001b[0m\u001b[0m\n\u001b[0;32m      3\u001b[0m \u001b[1;33m\u001b[0m\u001b[0m\n\u001b[1;32m----> 4\u001b[1;33m \u001b[0mE\u001b[0m \u001b[1;33m=\u001b[0m \u001b[1;33m(\u001b[0m\u001b[0mdata\u001b[0m\u001b[1;33m[\u001b[0m\u001b[1;33m:\u001b[0m\u001b[1;33m,\u001b[0m\u001b[1;36m1\u001b[0m\u001b[1;33m]\u001b[0m\u001b[1;33m*\u001b[0m\u001b[1;33m(\u001b[0m\u001b[1;36m1\u001b[0m\u001b[1;33m/\u001b[0m\u001b[0mdata\u001b[0m\u001b[1;33m[\u001b[0m\u001b[1;36m0\u001b[0m\u001b[1;33m,\u001b[0m \u001b[1;36m1\u001b[0m\u001b[1;33m]\u001b[0m\u001b[1;33m)\u001b[0m\u001b[1;33m)\u001b[0m\u001b[1;33m\u001b[0m\u001b[1;33m\u001b[0m\u001b[0m\n\u001b[0m\u001b[0;32m      5\u001b[0m \u001b[0me\u001b[0m \u001b[1;33m=\u001b[0m \u001b[1;33m(\u001b[0m\u001b[0mdata\u001b[0m\u001b[1;33m[\u001b[0m\u001b[1;33m:\u001b[0m\u001b[1;33m,\u001b[0m\u001b[1;36m2\u001b[0m\u001b[1;33m]\u001b[0m\u001b[1;33m*\u001b[0m\u001b[1;33m(\u001b[0m\u001b[1;36m1\u001b[0m\u001b[1;33m/\u001b[0m\u001b[0mdata\u001b[0m\u001b[1;33m[\u001b[0m\u001b[1;36m0\u001b[0m\u001b[1;33m,\u001b[0m \u001b[1;36m1\u001b[0m\u001b[1;33m]\u001b[0m\u001b[1;33m)\u001b[0m\u001b[1;33m)\u001b[0m\u001b[1;33m\u001b[0m\u001b[1;33m\u001b[0m\u001b[0m\n\u001b[0;32m      6\u001b[0m \u001b[0mt\u001b[0m \u001b[1;33m=\u001b[0m \u001b[0mdata\u001b[0m\u001b[1;33m[\u001b[0m\u001b[1;33m:\u001b[0m\u001b[1;33m,\u001b[0m\u001b[1;36m0\u001b[0m\u001b[1;33m]\u001b[0m\u001b[1;33m\u001b[0m\u001b[1;33m\u001b[0m\u001b[0m\n",
      "\u001b[1;31mNameError\u001b[0m: name 'data' is not defined"
     ]
    }
   ],
   "source": [
    "#####onderstaande data is niet van sds05 maar van hms05####\n",
    "#data = pylab.loadtxt('C:/Users/s162605/Documents/Studie/JAAR3/BEP/sterren/IFERC/W7Xsds05/GAM/104.719/gamdiagions_act.dat')\n",
    "\n",
    "#E = (data[:,1]*(1/data[0, 1]))\n",
    "#e = (data[:,2]*(1/data[0, 1]))\n",
    "#t = data[:,0]\n",
    "\n",
    "fig, ax1 = plt.subplots(figsize=(13, 7))\n",
    "plt.title('W7-X Standard Configuration, s:0.5, $L_{x}$: 104.719', fontsize=30)\n",
    "ax1.set_xlabel('Time ($a / v_{ti}$)',fontsize=16)\n",
    "ax1.set_ylabel('$\\phi (t) / \\phi (0)$',fontsize=16)\n",
    "ax1.axhline(y=0, color='black', linestyle='dashed')\n",
    "\n",
    "Q = np.sqrt(E**2+e**2)\n",
    "ax1.plot(t, e, linewidth=2, label=('Imaginair part'))\n",
    "ax1.plot(t, E, linewidth=2, label=('Real part'))\n",
    "ax1.plot(t, Q, linewidth=2, label=('Modulus'))\n",
    "plt.legend()\n",
    "\n",
    "fig.tight_layout()\n",
    "#plt.savefig('../../CMSS_2018/Poster/Salpha_nlzf_plot.pdf', format='pdf', dpi=1200)    \n",
    "\n",
    "integ1 = (np.trapz(Q,t))\n",
    "integ2 = (np.trapz(E,t))\n",
    "integ3 = (np.trapz(e,t))\n",
    "\n",
    "print(\"Integral over Q is:\", integ1)\n",
    "print(\"Integral over E is:\", integ2)\n",
    "print(\"Integral over e is:\", integ3)"
   ]
  },
  {
   "cell_type": "code",
   "execution_count": null,
   "metadata": {},
   "outputs": [],
   "source": [
    "n=0\n",
    "teller=0\n",
    "while teller < 100:\n",
    "    if abs((Q[n+1]-Q[n])/(t[n+1]-t[n])) < 0.00001:\n",
    "        teller=teller+1 #telt hoe lang de afgeleide binnen het bereik valt\n",
    "    else: \n",
    "        teller=0\n",
    "    n=n+1 \n",
    "print(\"residual value is:\", Q[n])"
   ]
  },
  {
   "cell_type": "code",
   "execution_count": null,
   "metadata": {},
   "outputs": [],
   "source": []
  }
 ],
 "metadata": {
  "kernelspec": {
   "display_name": "Python 3",
   "language": "python",
   "name": "python3"
  }
 },
 "nbformat": 4,
 "nbformat_minor": 2
}
