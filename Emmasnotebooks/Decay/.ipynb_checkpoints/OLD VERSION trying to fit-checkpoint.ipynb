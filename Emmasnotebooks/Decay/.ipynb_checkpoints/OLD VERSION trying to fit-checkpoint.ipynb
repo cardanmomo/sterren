{
 "cells": [
  {
   "cell_type": "code",
   "execution_count": null,
   "metadata": {},
   "outputs": [],
   "source": [
    "from scipy.optimize import *\n",
    "\n",
    "def f1(t1,a,b):\n",
    "    return np.cos(a*t1)*np.exp(-t1/b)\n",
    "\n",
    "params = curve_fit(f1,t1,E1,maxfev=100000)\n",
    "\n",
    "print(\"a=\")#, params[0],\"b=\",params[1])\n",
    "\n",
    "plt.plot(t1,E1,'o')\n",
    "plt.plot(t1,f1(t1,params[0],params[1]))\n",
    "plt.legend(['data','fit'],loc='best')\n",
    "plt.tight_layout"
   ]
  },
  {
   "cell_type": "code",
   "execution_count": null,
   "metadata": {},
   "outputs": [],
   "source": [
    "##### example code\n",
    "from scipy.optimize import curve_fit\n",
    "\n",
    "def func(x,a,b,c):\n",
    "    return np.cos(a*x)*np.exp(-b*x)+c\n",
    "\n",
    "xdata = np.linspace(0, 4, 50) # list of 50 numbers between 0 and 4, evenly spaced\n",
    "y = func(xdata, 2.5, 1.3, 0.5)\n",
    "np.random.seed(1729)\n",
    "y_noise = 0.2 * np.random.normal(size=xdata.size)\n",
    "ydata = y + y_noise\n",
    "plt.plot(xdata, ydata, 'b-', label='data')\n",
    "\n",
    "\n",
    "popt, pcov = curve_fit(func, xdata, ydata)\n",
    "popt\n",
    "#array([ 2.55423706,  1.35190947,  0.47450618])\n",
    "plt.plot(xdata, func(xdata, *popt), 'r-',label='fit: a=%5.3f, b=%5.3f, c=%5.3f' % tuple(popt))\n",
    "\n",
    "popt, pcov = curve_fit(func, xdata, ydata, bounds=(0, [3., 1., 0.5]))\n",
    "popt\n",
    "#array([ 2.43708906,  1.        ,  0.35015434])\n",
    "plt.plot(xdata, func(xdata, *popt), 'g--',label='fit: a=%5.3f, b=%5.3f, c=%5.3f' % tuple(popt))\n",
    "\n",
    "plt.xlabel('x')\n",
    "plt.ylabel('y')\n",
    "plt.legend()\n",
    "plt.show()"
   ]
  }
 ],
 "metadata": {
  "kernelspec": {
   "display_name": "Python 3",
   "language": "python",
   "name": "python3"
  },
  "language_info": {
   "codemirror_mode": {
    "name": "ipython",
    "version": 3
   },
   "file_extension": ".py",
   "mimetype": "text/x-python",
   "name": "python",
   "nbconvert_exporter": "python",
   "pygments_lexer": "ipython3",
   "version": "3.7.3"
  }
 },
 "nbformat": 4,
 "nbformat_minor": 2
}
