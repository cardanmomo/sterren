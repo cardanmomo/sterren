{
 "cells": [
  {
   "cell_type": "code",
   "execution_count": null,
   "metadata": {},
   "outputs": [],
   "source": [
    "#W7Xhis05 104.719"
   ]
  },
  {
   "cell_type": "code",
   "execution_count": 1,
   "metadata": {},
   "outputs": [],
   "source": [
    "#n = 1446\n",
    "#a=10\n",
    "#while Q[n] > 10*abs(Q[n]-Q[n+a]):\n",
    "#    print(\"Inside loop\", n)\n",
    "#    Q[n]==Q[n+a]\n",
    "#    n = n + a\n",
    "#else:\n",
    "#    print(Q[n])\n",
    "#    print(n)\n",
    "\n",
    "\n",
    "#de fout zit hem in de factor en de while statement.\n",
    "#a = t[n]\n",
    "#while a < 510:\n",
    "#    a = t[n+1]\n",
    "#else: \n",
    "#    print(t[n])   \n",
    "#a, b = 0, 1\n",
    "#>>> while a < 10:\n",
    "#...     print(a)\n",
    "#...     a, b = b, a+b"
   ]
  },
  {
   "cell_type": "code",
   "execution_count": 2,
   "metadata": {},
   "outputs": [],
   "source": [
    "#a\n",
    "#a = t[n+1]\n",
    "#a\n",
    "#a=6+n\n",
    "#while a > 3:\n",
    "#    a = a-0.1*a\n",
    "#    n = n + 1\n",
    "#else: \n",
    "#    print(a) \n",
    "    \n",
    "    \n",
    "#n=1446\n",
    "\n",
    "#n+10\n",
    "\n",
    "#Q[n]"
   ]
  },
  {
   "cell_type": "code",
   "execution_count": 3,
   "metadata": {},
   "outputs": [],
   "source": [
    "#n=0\n",
    "#teller=0\n",
    "#residual=0\n",
    "#while teller < 4000:\n",
    "#    if abs((Q[n+1]-Q[n])/(t[n+1]-t[n])) < 0.00001:\n",
    "#        teller=teller+1 #telt hoe lang de afgeleide binnen het bereik valt\n",
    "#        residual=((residual*n)+Q[n])/(n+1) #to get as residual the average over all the Q values in the region where the absolute value of the derivative is less than 0.00001\n",
    "#    else: \n",
    "#        teller=0\n",
    "#        residual=0\n",
    "#    n=n+1 \n",
    "#print(\"The residual value is:\", Q[n],t[n], residual)"
   ]
  },
  {
   "cell_type": "code",
   "execution_count": 4,
   "metadata": {},
   "outputs": [],
   "source": [
    "#1200 lijkt beter te werken voor his05 lis05 en sds025 met 104719\n",
    "#n=0\n",
    "#teller=0\n",
    "#residual=0\n",
    "#while teller < 400:\n",
    "#    if abs((Q[n+1]-Q[n])/(t[n+1]-t[n])) < 0.00001:\n",
    "#        teller=teller+1 #telt hoe lang de afgeleide binnen het bereik valt\n",
    "#        residual=((residual*n)+Q[n])/(n+1)#to get as residual the average over all the Q values in the region where the absolute value of the derivative is less than 0.00001\n",
    "#        #print(Q[n], n, t[n], teller)\n",
    "#    else: \n",
    "#        teller=0\n",
    "#        residual=0\n",
    "#    n=n+1 \n",
    "#print(\"The residual value is:\", residual, Q[n],t[n])"
   ]
  },
  {
   "cell_type": "code",
   "execution_count": 5,
   "metadata": {},
   "outputs": [
    {
     "ename": "NameError",
     "evalue": "name 'Q' is not defined",
     "output_type": "error",
     "traceback": [
      "\u001b[1;31m---------------------------------------------------------------------------\u001b[0m",
      "\u001b[1;31mNameError\u001b[0m                                 Traceback (most recent call last)",
      "\u001b[1;32m<ipython-input-5-80d929c8ca8f>\u001b[0m in \u001b[0;36m<module>\u001b[1;34m\u001b[0m\n\u001b[0;32m      4\u001b[0m \u001b[0mresidual\u001b[0m\u001b[1;33m=\u001b[0m\u001b[1;36m0\u001b[0m\u001b[1;33m\u001b[0m\u001b[1;33m\u001b[0m\u001b[0m\n\u001b[0;32m      5\u001b[0m \u001b[1;32mwhile\u001b[0m \u001b[0mteller\u001b[0m \u001b[1;33m<\u001b[0m \u001b[1;36m3000\u001b[0m\u001b[1;33m:\u001b[0m\u001b[1;33m\u001b[0m\u001b[1;33m\u001b[0m\u001b[0m\n\u001b[1;32m----> 6\u001b[1;33m     \u001b[1;32mif\u001b[0m \u001b[0mabs\u001b[0m\u001b[1;33m(\u001b[0m\u001b[1;33m(\u001b[0m\u001b[0mQ\u001b[0m\u001b[1;33m[\u001b[0m\u001b[0mn\u001b[0m\u001b[1;33m+\u001b[0m\u001b[1;36m1\u001b[0m\u001b[1;33m]\u001b[0m\u001b[1;33m-\u001b[0m\u001b[0mQ\u001b[0m\u001b[1;33m[\u001b[0m\u001b[0mn\u001b[0m\u001b[1;33m]\u001b[0m\u001b[1;33m)\u001b[0m\u001b[1;33m/\u001b[0m\u001b[1;33m(\u001b[0m\u001b[0mt\u001b[0m\u001b[1;33m[\u001b[0m\u001b[0mn\u001b[0m\u001b[1;33m+\u001b[0m\u001b[1;36m1\u001b[0m\u001b[1;33m]\u001b[0m\u001b[1;33m-\u001b[0m\u001b[0mt\u001b[0m\u001b[1;33m[\u001b[0m\u001b[0mn\u001b[0m\u001b[1;33m]\u001b[0m\u001b[1;33m)\u001b[0m\u001b[1;33m)\u001b[0m \u001b[1;33m<\u001b[0m \u001b[1;36m0.00001\u001b[0m\u001b[1;33m:\u001b[0m\u001b[1;33m\u001b[0m\u001b[1;33m\u001b[0m\u001b[0m\n\u001b[0m\u001b[0;32m      7\u001b[0m         \u001b[0mteller\u001b[0m\u001b[1;33m=\u001b[0m\u001b[0mteller\u001b[0m\u001b[1;33m+\u001b[0m\u001b[1;36m1\u001b[0m \u001b[1;31m#telt hoe lang de afgeleide binnen het bereik valt\u001b[0m\u001b[1;33m\u001b[0m\u001b[1;33m\u001b[0m\u001b[0m\n\u001b[0;32m      8\u001b[0m         \u001b[0mresidual\u001b[0m\u001b[1;33m=\u001b[0m\u001b[1;33m(\u001b[0m\u001b[1;33m(\u001b[0m\u001b[0mresidual\u001b[0m\u001b[1;33m*\u001b[0m\u001b[0mn\u001b[0m\u001b[1;33m)\u001b[0m\u001b[1;33m+\u001b[0m\u001b[0mQ\u001b[0m\u001b[1;33m[\u001b[0m\u001b[0mn\u001b[0m\u001b[1;33m]\u001b[0m\u001b[1;33m)\u001b[0m\u001b[1;33m/\u001b[0m\u001b[1;33m(\u001b[0m\u001b[0mn\u001b[0m\u001b[1;33m+\u001b[0m\u001b[1;36m1\u001b[0m\u001b[1;33m)\u001b[0m \u001b[1;31m#to get as residual the average over all the Q values in the region where the absolute value of the derivative is less than 0.00001\u001b[0m\u001b[1;33m\u001b[0m\u001b[1;33m\u001b[0m\u001b[0m\n",
      "\u001b[1;31mNameError\u001b[0m: name 'Q' is not defined"
     ]
    }
   ],
   "source": [
    "#not the final version\n",
    "n=0\n",
    "teller=0\n",
    "residual=0\n",
    "while teller < 3000:\n",
    "    if abs((Q[n+1]-Q[n])/(t[n+1]-t[n])) < 0.00001:\n",
    "        teller=teller+1 #telt hoe lang de afgeleide binnen het bereik valt\n",
    "        residual=((residual*n)+Q[n])/(n+1) #to get as residual the average over all the Q values in the region where the absolute value of the derivative is less than 0.00001\n",
    "    else: \n",
    "        teller=0\n",
    "        residual=0\n",
    "    n=n+1 \n",
    "print(\"The residual value is:\", residual)\n",
    "print(\"rough range of Q values for determining average residual:\", Q[n-3000], Q[n])\n",
    "print(\"time range for determining average residual:\",t[n-3000],t[n])"
   ]
  },
  {
   "cell_type": "code",
   "execution_count": 7,
   "metadata": {},
   "outputs": [
    {
     "ename": "NameError",
     "evalue": "name 'Q' is not defined",
     "output_type": "error",
     "traceback": [
      "\u001b[1;31m---------------------------------------------------------------------------\u001b[0m",
      "\u001b[1;31mNameError\u001b[0m                                 Traceback (most recent call last)",
      "\u001b[1;32m<ipython-input-7-f47e64ad5ea1>\u001b[0m in \u001b[0;36m<module>\u001b[1;34m\u001b[0m\n\u001b[0;32m      5\u001b[0m \u001b[0mnfix\u001b[0m\u001b[1;33m=\u001b[0m\u001b[1;36m0\u001b[0m\u001b[1;33m\u001b[0m\u001b[1;33m\u001b[0m\u001b[0m\n\u001b[0;32m      6\u001b[0m \u001b[1;32mwhile\u001b[0m \u001b[0mteller\u001b[0m \u001b[1;33m<\u001b[0m \u001b[1;36m3000\u001b[0m\u001b[1;33m:\u001b[0m\u001b[1;33m\u001b[0m\u001b[1;33m\u001b[0m\u001b[0m\n\u001b[1;32m----> 7\u001b[1;33m     \u001b[1;32mif\u001b[0m \u001b[0mabs\u001b[0m\u001b[1;33m(\u001b[0m\u001b[1;33m(\u001b[0m\u001b[0mQ\u001b[0m\u001b[1;33m[\u001b[0m\u001b[0mn\u001b[0m\u001b[1;33m+\u001b[0m\u001b[1;36m1\u001b[0m\u001b[1;33m]\u001b[0m\u001b[1;33m-\u001b[0m\u001b[0mQ\u001b[0m\u001b[1;33m[\u001b[0m\u001b[0mn\u001b[0m\u001b[1;33m]\u001b[0m\u001b[1;33m)\u001b[0m\u001b[1;33m/\u001b[0m\u001b[1;33m(\u001b[0m\u001b[0mt\u001b[0m\u001b[1;33m[\u001b[0m\u001b[0mn\u001b[0m\u001b[1;33m+\u001b[0m\u001b[1;36m1\u001b[0m\u001b[1;33m]\u001b[0m\u001b[1;33m-\u001b[0m\u001b[0mt\u001b[0m\u001b[1;33m[\u001b[0m\u001b[0mn\u001b[0m\u001b[1;33m]\u001b[0m\u001b[1;33m)\u001b[0m\u001b[1;33m)\u001b[0m \u001b[1;33m<\u001b[0m \u001b[1;36m0.00001\u001b[0m\u001b[1;33m:\u001b[0m\u001b[1;33m\u001b[0m\u001b[1;33m\u001b[0m\u001b[0m\n\u001b[0m\u001b[0;32m      8\u001b[0m         \u001b[0mteller\u001b[0m\u001b[1;33m=\u001b[0m\u001b[0mteller\u001b[0m\u001b[1;33m+\u001b[0m\u001b[1;36m1\u001b[0m \u001b[1;31m#telt hoe lang de afgeleide binnen het bereik valt\u001b[0m\u001b[1;33m\u001b[0m\u001b[1;33m\u001b[0m\u001b[0m\n\u001b[0;32m      9\u001b[0m         \u001b[0mresidual\u001b[0m\u001b[1;33m=\u001b[0m\u001b[1;33m(\u001b[0m\u001b[0mresidual\u001b[0m\u001b[1;33m*\u001b[0m\u001b[1;33m(\u001b[0m\u001b[0mn\u001b[0m\u001b[1;33m-\u001b[0m\u001b[0mnfix\u001b[0m\u001b[1;33m)\u001b[0m\u001b[1;33m+\u001b[0m\u001b[0mQ\u001b[0m\u001b[1;33m[\u001b[0m\u001b[0mn\u001b[0m\u001b[1;33m]\u001b[0m\u001b[1;33m)\u001b[0m\u001b[1;33m/\u001b[0m\u001b[1;33m(\u001b[0m\u001b[0mn\u001b[0m\u001b[1;33m+\u001b[0m\u001b[1;36m1\u001b[0m\u001b[1;33m-\u001b[0m\u001b[0mnfix\u001b[0m\u001b[1;33m)\u001b[0m\u001b[1;31m#to get as residual the average over all the Q values in the region where the absolute value of the derivative is less than 0.00001\u001b[0m\u001b[1;33m\u001b[0m\u001b[1;33m\u001b[0m\u001b[0m\n",
      "\u001b[1;31mNameError\u001b[0m: name 'Q' is not defined"
     ]
    }
   ],
   "source": [
    "# to fix problem with taking the average over the right Q[n] values. fixed.\n",
    "n=0\n",
    "teller=0\n",
    "residual=0\n",
    "nfix=0\n",
    "while teller < 3000:\n",
    "    if abs((Q[n+1]-Q[n])/(t[n+1]-t[n])) < 0.00001:\n",
    "        teller=teller+1 #telt hoe lang de afgeleide binnen het bereik valt\n",
    "        residual=(residual*(n-nfix)+Q[n])/(n+1-nfix)#to get as residual the average over all the Q values in the region where the absolute value of the derivative is less than 0.00001\n",
    "    else:\n",
    "        teller=0\n",
    "        residual=0\n",
    "        nfix = (n+1)\n",
    "    n=n+1\n",
    "print(\"The residual value is:\", residual)\n",
    "print(\"rough range of Q values for determining average residual:\", Q[n-3000], n-3000, Q[n], n)\n",
    "print(\"time range for determining average residual:\",t[n-3000],t[n])"
   ]
  },
  {
   "cell_type": "code",
   "execution_count": null,
   "metadata": {},
   "outputs": [],
   "source": [
    "#W7Xhis05 665.979"
   ]
  },
  {
   "cell_type": "code",
   "execution_count": 8,
   "metadata": {},
   "outputs": [],
   "source": [
    "#n=0\n",
    "#teller=0\n",
    "#while teller < 400:\n",
    "#    if abs((Q[n+1]-Q[n])/(t[n+1]-t[n])) < 0.00001:\n",
    "#        teller=teller+1 #telt hoe lang de afgeleide binnen het bereik valt\n",
    "#    else: \n",
    "#        teller=0\n",
    "#    n=n+1 \n",
    "#print(\"The residual value is:\", Q[n],t[n])"
   ]
  },
  {
   "cell_type": "code",
   "execution_count": 9,
   "metadata": {},
   "outputs": [
    {
     "ename": "NameError",
     "evalue": "name 'Q' is not defined",
     "output_type": "error",
     "traceback": [
      "\u001b[1;31m---------------------------------------------------------------------------\u001b[0m",
      "\u001b[1;31mNameError\u001b[0m                                 Traceback (most recent call last)",
      "\u001b[1;32m<ipython-input-9-a32818e14e53>\u001b[0m in \u001b[0;36m<module>\u001b[1;34m\u001b[0m\n\u001b[0;32m      3\u001b[0m \u001b[0mresidual\u001b[0m\u001b[1;33m=\u001b[0m\u001b[1;36m0\u001b[0m\u001b[1;33m\u001b[0m\u001b[1;33m\u001b[0m\u001b[0m\n\u001b[0;32m      4\u001b[0m \u001b[1;32mwhile\u001b[0m \u001b[0mteller\u001b[0m \u001b[1;33m<\u001b[0m \u001b[1;36m3000\u001b[0m\u001b[1;33m:\u001b[0m\u001b[1;33m\u001b[0m\u001b[1;33m\u001b[0m\u001b[0m\n\u001b[1;32m----> 5\u001b[1;33m     \u001b[1;32mif\u001b[0m \u001b[0mabs\u001b[0m\u001b[1;33m(\u001b[0m\u001b[1;33m(\u001b[0m\u001b[0mQ\u001b[0m\u001b[1;33m[\u001b[0m\u001b[0mn\u001b[0m\u001b[1;33m+\u001b[0m\u001b[1;36m1\u001b[0m\u001b[1;33m]\u001b[0m\u001b[1;33m-\u001b[0m\u001b[0mQ\u001b[0m\u001b[1;33m[\u001b[0m\u001b[0mn\u001b[0m\u001b[1;33m]\u001b[0m\u001b[1;33m)\u001b[0m\u001b[1;33m/\u001b[0m\u001b[1;33m(\u001b[0m\u001b[0mt\u001b[0m\u001b[1;33m[\u001b[0m\u001b[0mn\u001b[0m\u001b[1;33m+\u001b[0m\u001b[1;36m1\u001b[0m\u001b[1;33m]\u001b[0m\u001b[1;33m-\u001b[0m\u001b[0mt\u001b[0m\u001b[1;33m[\u001b[0m\u001b[0mn\u001b[0m\u001b[1;33m]\u001b[0m\u001b[1;33m)\u001b[0m\u001b[1;33m)\u001b[0m \u001b[1;33m<\u001b[0m \u001b[1;36m0.00001\u001b[0m\u001b[1;33m:\u001b[0m\u001b[1;33m\u001b[0m\u001b[1;33m\u001b[0m\u001b[0m\n\u001b[0m\u001b[0;32m      6\u001b[0m         \u001b[0mteller\u001b[0m\u001b[1;33m=\u001b[0m\u001b[0mteller\u001b[0m\u001b[1;33m+\u001b[0m\u001b[1;36m1\u001b[0m \u001b[1;31m#telt hoe lang de afgeleide binnen het bereik valt\u001b[0m\u001b[1;33m\u001b[0m\u001b[1;33m\u001b[0m\u001b[0m\n\u001b[0;32m      7\u001b[0m         \u001b[0mresidual\u001b[0m\u001b[1;33m=\u001b[0m\u001b[1;33m(\u001b[0m\u001b[1;33m(\u001b[0m\u001b[0mresidual\u001b[0m\u001b[1;33m*\u001b[0m\u001b[0mn\u001b[0m\u001b[1;33m)\u001b[0m\u001b[1;33m+\u001b[0m\u001b[0mQ\u001b[0m\u001b[1;33m[\u001b[0m\u001b[0mn\u001b[0m\u001b[1;33m]\u001b[0m\u001b[1;33m)\u001b[0m\u001b[1;33m/\u001b[0m\u001b[1;33m(\u001b[0m\u001b[0mn\u001b[0m\u001b[1;33m+\u001b[0m\u001b[1;36m1\u001b[0m\u001b[1;33m)\u001b[0m \u001b[1;31m#to get as residual the average over all the Q values in the region where the absolute value of the derivative is less than 0.00001\u001b[0m\u001b[1;33m\u001b[0m\u001b[1;33m\u001b[0m\u001b[0m\n",
      "\u001b[1;31mNameError\u001b[0m: name 'Q' is not defined"
     ]
    }
   ],
   "source": [
    "n=0\n",
    "teller=0\n",
    "residual=0\n",
    "while teller < 3000:\n",
    "    if abs((Q[n+1]-Q[n])/(t[n+1]-t[n])) < 0.00001:\n",
    "        teller=teller+1 #telt hoe lang de afgeleide binnen het bereik valt\n",
    "        residual=((residual*n)+Q[n])/(n+1) #to get as residual the average over all the Q values in the region where the absolute value of the derivative is less than 0.00001\n",
    "    else: \n",
    "        teller=0\n",
    "        residual=0\n",
    "    n=n+1 \n",
    "print(\"The residual value is:\", residual)\n",
    "print(\"rough range of Q values for determining average residual:\", Q[n-3000], Q[n])\n",
    "print(\"time range for determining average residual:\",t[n-3000],t[n])"
   ]
  },
  {
   "cell_type": "code",
   "execution_count": 10,
   "metadata": {},
   "outputs": [
    {
     "ename": "NameError",
     "evalue": "name 'Q' is not defined",
     "output_type": "error",
     "traceback": [
      "\u001b[1;31m---------------------------------------------------------------------------\u001b[0m",
      "\u001b[1;31mNameError\u001b[0m                                 Traceback (most recent call last)",
      "\u001b[1;32m<ipython-input-10-aed70f581862>\u001b[0m in \u001b[0;36m<module>\u001b[1;34m\u001b[0m\n\u001b[0;32m      4\u001b[0m \u001b[0mnfix\u001b[0m\u001b[1;33m=\u001b[0m\u001b[1;36m0\u001b[0m\u001b[1;33m\u001b[0m\u001b[1;33m\u001b[0m\u001b[0m\n\u001b[0;32m      5\u001b[0m \u001b[1;32mwhile\u001b[0m \u001b[0mteller\u001b[0m \u001b[1;33m<\u001b[0m \u001b[1;36m5000\u001b[0m\u001b[1;33m:\u001b[0m\u001b[1;33m\u001b[0m\u001b[1;33m\u001b[0m\u001b[0m\n\u001b[1;32m----> 6\u001b[1;33m     \u001b[1;32mif\u001b[0m \u001b[0mabs\u001b[0m\u001b[1;33m(\u001b[0m\u001b[1;33m(\u001b[0m\u001b[0mQ\u001b[0m\u001b[1;33m[\u001b[0m\u001b[0mn\u001b[0m\u001b[1;33m+\u001b[0m\u001b[1;36m1\u001b[0m\u001b[1;33m]\u001b[0m\u001b[1;33m-\u001b[0m\u001b[0mQ\u001b[0m\u001b[1;33m[\u001b[0m\u001b[0mn\u001b[0m\u001b[1;33m]\u001b[0m\u001b[1;33m)\u001b[0m\u001b[1;33m/\u001b[0m\u001b[1;33m(\u001b[0m\u001b[0mt\u001b[0m\u001b[1;33m[\u001b[0m\u001b[0mn\u001b[0m\u001b[1;33m+\u001b[0m\u001b[1;36m1\u001b[0m\u001b[1;33m]\u001b[0m\u001b[1;33m-\u001b[0m\u001b[0mt\u001b[0m\u001b[1;33m[\u001b[0m\u001b[0mn\u001b[0m\u001b[1;33m]\u001b[0m\u001b[1;33m)\u001b[0m\u001b[1;33m)\u001b[0m \u001b[1;33m<\u001b[0m \u001b[1;36m0.00001\u001b[0m\u001b[1;33m:\u001b[0m\u001b[1;33m\u001b[0m\u001b[1;33m\u001b[0m\u001b[0m\n\u001b[0m\u001b[0;32m      7\u001b[0m         \u001b[0mteller\u001b[0m\u001b[1;33m=\u001b[0m\u001b[0mteller\u001b[0m\u001b[1;33m+\u001b[0m\u001b[1;36m1\u001b[0m \u001b[1;31m#telt hoe lang de afgeleide binnen het bereik valt\u001b[0m\u001b[1;33m\u001b[0m\u001b[1;33m\u001b[0m\u001b[0m\n\u001b[0;32m      8\u001b[0m         \u001b[0mresidual\u001b[0m\u001b[1;33m=\u001b[0m\u001b[1;33m(\u001b[0m\u001b[0mresidual\u001b[0m\u001b[1;33m*\u001b[0m\u001b[1;33m(\u001b[0m\u001b[0mn\u001b[0m\u001b[1;33m-\u001b[0m\u001b[0mnfix\u001b[0m\u001b[1;33m)\u001b[0m\u001b[1;33m+\u001b[0m\u001b[0mQ\u001b[0m\u001b[1;33m[\u001b[0m\u001b[0mn\u001b[0m\u001b[1;33m]\u001b[0m\u001b[1;33m)\u001b[0m\u001b[1;33m/\u001b[0m\u001b[1;33m(\u001b[0m\u001b[0mn\u001b[0m\u001b[1;33m+\u001b[0m\u001b[1;36m1\u001b[0m\u001b[1;33m-\u001b[0m\u001b[0mnfix\u001b[0m\u001b[1;33m)\u001b[0m\u001b[1;31m#to get as residual the average over all the Q values in the region where the absolute value of the derivative is less than 0.00001\u001b[0m\u001b[1;33m\u001b[0m\u001b[1;33m\u001b[0m\u001b[0m\n",
      "\u001b[1;31mNameError\u001b[0m: name 'Q' is not defined"
     ]
    }
   ],
   "source": [
    "n=0\n",
    "teller=0\n",
    "residual=0\n",
    "nfix=0\n",
    "while teller < 5000:\n",
    "    if abs((Q[n+1]-Q[n])/(t[n+1]-t[n])) < 0.00001:\n",
    "        teller=teller+1 #telt hoe lang de afgeleide binnen het bereik valt\n",
    "        residual=(residual*(n-nfix)+Q[n])/(n+1-nfix)#to get as residual the average over all the Q values in the region where the absolute value of the derivative is less than 0.00001\n",
    "    else:\n",
    "        teller=0\n",
    "        residual=0\n",
    "        nfix = (n+1)\n",
    "    n=n+1\n",
    "print(\"The residual value is:\", residual)\n",
    "print(\"rough range of Q values for determining average residual:\", Q[n-5000], Q[n])\n",
    "print(\"time range for determining average residual:\",t[n-5000],t[n])"
   ]
  },
  {
   "cell_type": "code",
   "execution_count": null,
   "metadata": {},
   "outputs": [],
   "source": [
    "#W7Xhms05 104.719"
   ]
  },
  {
   "cell_type": "code",
   "execution_count": 11,
   "metadata": {},
   "outputs": [],
   "source": [
    "#n=100\n",
    "\n",
    "#while (Q[n+1]-Q[n])/(t[n+1]-t[n]) < -0.00001:\n",
    "#    n = n+1\n",
    "#    print(\"inside loop\", n)\n",
    "#    if n > 9000:\n",
    "#       break\n",
    "#print(\"The residual is:\", Q[n], n)\n",
    "#y = (Q[n]-Q[n-1])/(t[n]-t[n-1])\n",
    "#x = (Q[n+1]-Q[n])/(t[n+1]-t[n])\n",
    "#y,x"
   ]
  },
  {
   "cell_type": "code",
   "execution_count": 12,
   "metadata": {},
   "outputs": [],
   "source": [
    "#n=0\n",
    "#teller=0\n",
    "#while teller < 100:\n",
    "#    if abs((Q[n+1]-Q[n])/(t[n+1]-t[n])) < 0.00001:\n",
    "#        teller=teller+1 #telt hoe lang de afgeleide binnen het bereik valt\n",
    "#    else: \n",
    "#        teller=0\n",
    "#    n=n+1 \n",
    "#print(\"residual value is:\", Q[n])"
   ]
  },
  {
   "cell_type": "code",
   "execution_count": 13,
   "metadata": {},
   "outputs": [],
   "source": [
    "#n=0\n",
    "#teller=0\n",
    "#while teller < 400:\n",
    "#    if abs((Q[n+1]-Q[n])/(t[n+1]-t[n])) < 0.00001:\n",
    "#        teller=teller+1 #telt hoe lang de afgeleide binnen het bereik valt\n",
    "#    else: \n",
    "#        teller=0\n",
    "#    n=n+1 \n",
    "#print(\"The residual value is:\", Q[n])"
   ]
  },
  {
   "cell_type": "code",
   "execution_count": 14,
   "metadata": {},
   "outputs": [
    {
     "ename": "NameError",
     "evalue": "name 'Q' is not defined",
     "output_type": "error",
     "traceback": [
      "\u001b[1;31m---------------------------------------------------------------------------\u001b[0m",
      "\u001b[1;31mNameError\u001b[0m                                 Traceback (most recent call last)",
      "\u001b[1;32m<ipython-input-14-f86c91f09dfe>\u001b[0m in \u001b[0;36m<module>\u001b[1;34m\u001b[0m\n\u001b[0;32m      4\u001b[0m \u001b[0mnfix\u001b[0m\u001b[1;33m=\u001b[0m\u001b[1;36m0\u001b[0m\u001b[1;33m\u001b[0m\u001b[1;33m\u001b[0m\u001b[0m\n\u001b[0;32m      5\u001b[0m \u001b[1;32mwhile\u001b[0m \u001b[0mteller\u001b[0m \u001b[1;33m<\u001b[0m \u001b[1;36m700\u001b[0m\u001b[1;33m:\u001b[0m\u001b[1;33m\u001b[0m\u001b[1;33m\u001b[0m\u001b[0m\n\u001b[1;32m----> 6\u001b[1;33m     \u001b[1;32mif\u001b[0m \u001b[0mabs\u001b[0m\u001b[1;33m(\u001b[0m\u001b[1;33m(\u001b[0m\u001b[0mQ\u001b[0m\u001b[1;33m[\u001b[0m\u001b[0mn\u001b[0m\u001b[1;33m+\u001b[0m\u001b[1;36m1\u001b[0m\u001b[1;33m]\u001b[0m\u001b[1;33m-\u001b[0m\u001b[0mQ\u001b[0m\u001b[1;33m[\u001b[0m\u001b[0mn\u001b[0m\u001b[1;33m]\u001b[0m\u001b[1;33m)\u001b[0m\u001b[1;33m/\u001b[0m\u001b[1;33m(\u001b[0m\u001b[0mt\u001b[0m\u001b[1;33m[\u001b[0m\u001b[0mn\u001b[0m\u001b[1;33m+\u001b[0m\u001b[1;36m1\u001b[0m\u001b[1;33m]\u001b[0m\u001b[1;33m-\u001b[0m\u001b[0mt\u001b[0m\u001b[1;33m[\u001b[0m\u001b[0mn\u001b[0m\u001b[1;33m]\u001b[0m\u001b[1;33m)\u001b[0m\u001b[1;33m)\u001b[0m \u001b[1;33m<\u001b[0m \u001b[1;36m0.00001\u001b[0m\u001b[1;33m:\u001b[0m\u001b[1;33m\u001b[0m\u001b[1;33m\u001b[0m\u001b[0m\n\u001b[0m\u001b[0;32m      7\u001b[0m         \u001b[0mteller\u001b[0m\u001b[1;33m=\u001b[0m\u001b[0mteller\u001b[0m\u001b[1;33m+\u001b[0m\u001b[1;36m1\u001b[0m \u001b[1;31m#telt hoe lang de afgeleide binnen het bereik valt\u001b[0m\u001b[1;33m\u001b[0m\u001b[1;33m\u001b[0m\u001b[0m\n\u001b[0;32m      8\u001b[0m         \u001b[0mresidual\u001b[0m\u001b[1;33m=\u001b[0m\u001b[1;33m(\u001b[0m\u001b[1;33m(\u001b[0m\u001b[0mresidual\u001b[0m\u001b[1;33m*\u001b[0m\u001b[1;33m(\u001b[0m\u001b[0mn\u001b[0m\u001b[1;33m-\u001b[0m\u001b[0mnfix\u001b[0m\u001b[1;33m)\u001b[0m\u001b[1;33m)\u001b[0m\u001b[1;33m+\u001b[0m\u001b[0mQ\u001b[0m\u001b[1;33m[\u001b[0m\u001b[0mn\u001b[0m\u001b[1;33m]\u001b[0m\u001b[1;33m)\u001b[0m\u001b[1;33m/\u001b[0m\u001b[1;33m(\u001b[0m\u001b[0mn\u001b[0m\u001b[1;33m+\u001b[0m\u001b[1;36m1\u001b[0m\u001b[1;33m)\u001b[0m \u001b[1;31m#to get as residual the average over all the Q values in the region where the absolute value of the derivative is less than 0.00001\u001b[0m\u001b[1;33m\u001b[0m\u001b[1;33m\u001b[0m\u001b[0m\n",
      "\u001b[1;31mNameError\u001b[0m: name 'Q' is not defined"
     ]
    }
   ],
   "source": [
    "n=0\n",
    "teller=0\n",
    "residual=0\n",
    "nfix=0\n",
    "while teller < 700:\n",
    "    if abs((Q[n+1]-Q[n])/(t[n+1]-t[n])) < 0.00001:\n",
    "        teller=teller+1 #telt hoe lang de afgeleide binnen het bereik valt\n",
    "        residual=((residual*(n-nfix))+Q[n])/(n+1) #to get as residual the average over all the Q values in the region where the absolute value of the derivative is less than 0.00001\n",
    "    else: \n",
    "        teller=0\n",
    "        residual=0\n",
    "    n=n+1 \n",
    "print(\"The residual value is:\", residual)\n",
    "print(\"rough range of Q values for determining average residual:\", Q[n-700], Q[n])\n",
    "print(\"time range for determining average residual:\",t[n-700],t[n])"
   ]
  },
  {
   "cell_type": "code",
   "execution_count": null,
   "metadata": {},
   "outputs": [],
   "source": [
    "n=0\n",
    "teller=0\n",
    "residual=0\n",
    "nfix=0\n",
    "while teller < 700:\n",
    "    if abs((Q[n+1]-Q[n])/(t[n+1]-t[n])) < 0.00001:\n",
    "        teller=teller+1 #telt hoe lang de afgeleide binnen het bereik valt\n",
    "        residual=(residual*(n-nfix)+Q[n])/(n+1-nfix)#to get as residual the average over all the Q values in the region where the absolute value of the derivative is less than 0.00001\n",
    "    else:\n",
    "        teller=0\n",
    "        residual=0\n",
    "        nfix = (n+1)\n",
    "    n=n+1\n",
    "print(\"The residual value is:\", residual)\n",
    "print(\"rough range of Q values for determining average residual:\", Q[n-700], Q[n])\n",
    "print(\"time range for determining average residual:\",t[n-700],t[n])"
   ]
  },
  {
   "cell_type": "code",
   "execution_count": null,
   "metadata": {},
   "outputs": [],
   "source": [
    "#W7Xhms05 621.914"
   ]
  },
  {
   "cell_type": "code",
   "execution_count": null,
   "metadata": {},
   "outputs": [],
   "source": [
    "#n=0\n",
    "#teller=0\n",
    "#while teller < 400:\n",
    "#    if abs((Q[n+1]-Q[n])/(t[n+1]-t[n])) < 0.00001:\n",
    "#        teller=teller+1 #telt hoe lang de afgeleide binnen het bereik valt\n",
    "#    else: \n",
    "#        teller=0\n",
    "#    n=n+1 \n",
    "#print(\"The residual value is:\", Q[n])"
   ]
  },
  {
   "cell_type": "code",
   "execution_count": null,
   "metadata": {},
   "outputs": [],
   "source": [
    "n=0\n",
    "teller=0\n",
    "residual=0\n",
    "while teller < 3000:\n",
    "    if abs((Q[n+1]-Q[n])/(t[n+1]-t[n])) < 0.00001:\n",
    "        teller=teller+1 #telt hoe lang de afgeleide binnen het bereik valt\n",
    "        residual=((residual*n)+Q[n])/(n+1) #to get as residual the average over all the Q values in the region where the absolute value of the derivative is less than 0.00001\n",
    "    else: \n",
    "        teller=0\n",
    "        residual=0\n",
    "    n=n+1 \n",
    "print(\"The residual value is:\", residual)\n",
    "print(\"rough range of Q values for determining average residual:\", Q[n-3000], Q[n])\n",
    "print(\"time range for determining average residual:\",t[n-3000],t[n])"
   ]
  },
  {
   "cell_type": "code",
   "execution_count": null,
   "metadata": {},
   "outputs": [],
   "source": [
    "#n=0\n",
    "#teller=0\n",
    "#residual=0\n",
    "#nfix=0\n",
    "#while teller < 3000:\n",
    "#    if abs((Q[n+1]-Q[n])/(t[n+1]-t[n])) < 0.00001:\n",
    "#        teller=teller+1 #telt hoe lang de afgeleide binnen het bereik valt\n",
    "#        residual=(residual*(n-nfix)+Q[n])/(n+1-nfix)#to get as residual the average over all the Q values in the region where the absolute value of the derivative is less than 0.00001\n",
    "#    else:\n",
    "#        teller=0\n",
    "#        residual=0\n",
    "#        nfix = (n+1)\n",
    "#    n=n+1\n",
    "#print(\"The residual value is:\", residual)\n",
    "#print(\"rough range of Q values for determining average residual:\", Q[n-3000], Q[n])\n",
    "#print(\"time range for determining average residual:\",t[n-3000],t[n])"
   ]
  },
  {
   "cell_type": "code",
   "execution_count": null,
   "metadata": {},
   "outputs": [],
   "source": [
    "#W7Xlis05 104719"
   ]
  },
  {
   "cell_type": "code",
   "execution_count": null,
   "metadata": {},
   "outputs": [],
   "source": [
    "#n=0\n",
    "#teller=0\n",
    "#while teller < 1200:\n",
    "#    if abs((Q[n+1]-Q[n])/(t[n+1]-t[n])) < 0.00001:\n",
    "#        teller=teller+1 #telt hoe lang de afgeleide binnen het bereik valt\n",
    "#    else: \n",
    "#        teller=0\n",
    "#    n=n+1 \n",
    "#print(\"The residual value is:\", Q[n], t[n])"
   ]
  },
  {
   "cell_type": "code",
   "execution_count": null,
   "metadata": {},
   "outputs": [],
   "source": [
    "n=0\n",
    "teller=0\n",
    "residual=0\n",
    "while teller < 3000:\n",
    "    if abs((Q[n+1]-Q[n])/(t[n+1]-t[n])) < 0.00001:\n",
    "        teller=teller+1 #telt hoe lang de afgeleide binnen het bereik valt\n",
    "        residual=((residual*n)+Q[n])/(n+1) #to get as residual the average over all the Q values in the region where the absolute value of the derivative is less than 0.00001\n",
    "    else: \n",
    "        teller=0\n",
    "        residual=0\n",
    "    n=n+1 \n",
    "print(\"The residual value is:\", residual)\n",
    "print(\"rough range of Q values for determining average residual:\", Q[n-3000], Q[n])\n",
    "print(\"time range for determining average residual:\",t[n-3000],t[n])"
   ]
  },
  {
   "cell_type": "code",
   "execution_count": null,
   "metadata": {},
   "outputs": [],
   "source": [
    "n=0\n",
    "teller=0\n",
    "residual=0\n",
    "nfix=0\n",
    "while teller < 3000:\n",
    "    if abs((Q[n+1]-Q[n])/(t[n+1]-t[n])) < 0.00001:\n",
    "        teller=teller+1 #telt hoe lang de afgeleide binnen het bereik valt\n",
    "        residual=(residual*(n-nfix)+Q[n])/(n+1-nfix)#to get as residual the average over all the Q values in the region where the absolute value of the derivative is less than 0.00001\n",
    "    else:\n",
    "        teller=0\n",
    "        residual=0\n",
    "        nfix = (n+1)\n",
    "    n=n+1\n",
    "print(\"The residual value is:\", residual)\n",
    "print(\"rough range of Q values for determining average residual:\", Q[n-3000], Q[n])\n",
    "print(\"time range for determining average residual:\",t[n-3000],t[n])"
   ]
  },
  {
   "cell_type": "code",
   "execution_count": null,
   "metadata": {},
   "outputs": [],
   "source": [
    "#W7Xlis05 340925"
   ]
  },
  {
   "cell_type": "code",
   "execution_count": null,
   "metadata": {},
   "outputs": [],
   "source": [
    "#n=0\n",
    "#teller=0\n",
    "#while teller < 100:\n",
    "#    if abs((Q[n+1]-Q[n])/(t[n+1]-t[n])) < 0.00001:\n",
    "#        teller=teller+1 #telt hoe lang de afgeleide binnen het bereik valt\n",
    "#    else: \n",
    "#        teller=0\n",
    "#    n=n+1 \n",
    "#print(\"residual value is:\", Q[n])"
   ]
  },
  {
   "cell_type": "code",
   "execution_count": null,
   "metadata": {},
   "outputs": [],
   "source": [
    "#n=0\n",
    "#teller=0\n",
    "#while teller < 400:\n",
    "#    if abs((Q[n+1]-Q[n])/(t[n+1]-t[n])) < 0.00001:\n",
    "#        teller=teller+1 #telt hoe lang de afgeleide binnen het bereik valt\n",
    "#    else: \n",
    "#        teller=0\n",
    "#    n=n+1 \n",
    "#print(\"The residual value is:\", Q[n])"
   ]
  },
  {
   "cell_type": "code",
   "execution_count": null,
   "metadata": {},
   "outputs": [],
   "source": [
    "n=0\n",
    "teller=0\n",
    "residual=0\n",
    "while teller < 3000:\n",
    "    if abs((Q[n+1]-Q[n])/(t[n+1]-t[n])) < 0.00001:\n",
    "        teller=teller+1 #telt hoe lang de afgeleide binnen het bereik valt\n",
    "        residual=((residual*n)+Q[n])/(n+1) #to get as residual the average over all the Q values in the region where the absolute value of the derivative is less than 0.00001\n",
    "    else: \n",
    "        teller=0\n",
    "        residual=0\n",
    "    n=n+1 \n",
    "print(\"The residual value is:\", residual)\n",
    "print(\"rough range of Q values for determining average residual:\", Q[n-3000], Q[n])\n",
    "print(\"time range for determining average residual:\",t[n-3000],t[n])"
   ]
  },
  {
   "cell_type": "code",
   "execution_count": null,
   "metadata": {},
   "outputs": [],
   "source": [
    "n=0\n",
    "teller=0\n",
    "residual=0\n",
    "nfix=0\n",
    "while teller < 3000:\n",
    "    if abs((Q[n+1]-Q[n])/(t[n+1]-t[n])) < 0.00001:\n",
    "        teller=teller+1 #telt hoe lang de afgeleide binnen het bereik valt\n",
    "        residual=(residual*(n-nfix)+Q[n])/(n+1-nfix)#to get as residual the average over all the Q values in the region where the absolute value of the derivative is less than 0.00001\n",
    "    else:\n",
    "        teller=0\n",
    "        residual=0\n",
    "        nfix = (n+1)\n",
    "    n=n+1\n",
    "print(\"The residual value is:\", residual)\n",
    "print(\"rough range of Q values for determining average residual:\", Q[n-3000], Q[n])\n",
    "print(\"time range for determining average residual:\",t[n-3000],t[n])"
   ]
  },
  {
   "cell_type": "code",
   "execution_count": null,
   "metadata": {},
   "outputs": [],
   "source": [
    "#W7Xsds025 104719"
   ]
  },
  {
   "cell_type": "code",
   "execution_count": null,
   "metadata": {},
   "outputs": [],
   "source": [
    "#n=0\n",
    "#teller=0\n",
    "#while teller < 1200:\n",
    "#    if abs((Q[n+1]-Q[n])/(t[n+1]-t[n])) < 0.00001:\n",
    "#        teller=teller+1 #telt hoe lang de afgeleide binnen het bereik valt\n",
    "#    else: \n",
    "#        teller=0\n",
    "#    n=n+1 \n",
    "#print(\"The residual value is:\", Q[n], t[n])"
   ]
  },
  {
   "cell_type": "code",
   "execution_count": null,
   "metadata": {},
   "outputs": [],
   "source": [
    "#n=0\n",
    "#teller=0\n",
    "#residual=0\n",
    "#while teller < 4000:\n",
    "#    if abs((Q[n+1]-Q[n])/(t[n+1]-t[n])) < 0.00001:\n",
    "#        teller=teller+1 #telt hoe lang de afgeleide binnen het bereik valt\n",
    "#        residual=((residual*n)+Q[n])/(n+1) #to get as residual the average over all the Q values in the region where the absolute value of the derivative is less than 0.00001\n",
    "#    else: \n",
    "#        teller=0\n",
    "#        residual=0\n",
    "#    n=n+1 \n",
    "#print(\"The residual value is:\", Q[n],t[n], residual)"
   ]
  },
  {
   "cell_type": "code",
   "execution_count": null,
   "metadata": {},
   "outputs": [],
   "source": [
    "n=0\n",
    "teller=0\n",
    "residual=0\n",
    "while teller < 3000:\n",
    "    if abs((Q[n+1]-Q[n])/(t[n+1]-t[n])) < 0.00001:\n",
    "        teller=teller+1 #telt hoe lang de afgeleide binnen het bereik valt\n",
    "        residual=((residual*n)+Q[n])/(n+1) #to get as residual the average over all the Q values in the region where the absolute value of the derivative is less than 0.00001\n",
    "    else: \n",
    "        teller=0\n",
    "        residual=0\n",
    "    n=n+1 \n",
    "print(\"The residual value is:\", residual)\n",
    "print(\"rough range of Q values for determining average residual:\", Q[n-3000], Q[n])\n",
    "print(\"time range for determining average residual:\",t[n-3000],t[n])"
   ]
  },
  {
   "cell_type": "code",
   "execution_count": null,
   "metadata": {},
   "outputs": [],
   "source": [
    "n=0\n",
    "teller=0\n",
    "residual=0\n",
    "nfix=0\n",
    "while teller < 3000:\n",
    "    if abs((Q[n+1]-Q[n])/(t[n+1]-t[n])) < 0.00001:\n",
    "        teller=teller+1 #telt hoe lang de afgeleide binnen het bereik valt\n",
    "        residual=(residual*(n-nfix)+Q[n])/(n+1-nfix)#to get as residual the average over all the Q values in the region where the absolute value of the derivative is less than 0.00001\n",
    "    else:\n",
    "        teller=0\n",
    "        residual=0\n",
    "        nfix = (n+1)\n",
    "    n=n+1\n",
    "print(\"The residual value is:\", residual)\n",
    "print(\"rough range of Q values for determining average residual:\", Q[n-3000], Q[n])\n",
    "print(\"time range for determining average residual:\",t[n-3000],t[n])"
   ]
  },
  {
   "cell_type": "code",
   "execution_count": null,
   "metadata": {},
   "outputs": [],
   "source": [
    "#W7Xsds025 774957"
   ]
  },
  {
   "cell_type": "code",
   "execution_count": null,
   "metadata": {},
   "outputs": [],
   "source": [
    "#it really depends on n you start with, and on the percentage you take what answer you get\n",
    "#moet het groter dan teken niet een kleiner dan teken zijn? ja vgm wel, dus deze is fout\n",
    "\n",
    "#n = 500\n",
    "#a=10\n",
    "#while Q[n] > 10*abs(Q[n]-Q[n+a]):\n",
    "#    print(\"Inside loop\", n)\n",
    "#    Q[n]==Q[n+a]#deze is al overbodig eigenlijk\n",
    "#    n = n + a\n",
    "#else:\n",
    "#    print(Q[n])\n",
    "#    print(n)"
   ]
  },
  {
   "cell_type": "code",
   "execution_count": null,
   "metadata": {},
   "outputs": [],
   "source": [
    "#n = 1000\n",
    "#a=10\n",
    "#while Q[n] > 10*abs(Q[n]-Q[n+a]):\n",
    "#    print(\"Inside loop\", n)\n",
    "#    Q[n]==Q[n+a]\n",
    "#    n = n + a\n",
    "#else:\n",
    "#    print(Q[n])\n",
    "#    print(n)"
   ]
  },
  {
   "cell_type": "code",
   "execution_count": null,
   "metadata": {},
   "outputs": [],
   "source": [
    "#n = 20\n",
    "#a=10\n",
    "#while Q[n] > 5*abs(Q[n]-Q[n+a]):\n",
    "#    print(\"Inside loop\", n)\n",
    "#    Q[n]==Q[n+a]\n",
    "#    n = n + a\n",
    "#else:\n",
    "#    print(Q[n])\n",
    "#    print(n)"
   ]
  },
  {
   "cell_type": "code",
   "execution_count": null,
   "metadata": {},
   "outputs": [],
   "source": [
    "#n = 500\n",
    "#a=50\n",
    "#while Q[n] > 10*abs(Q[n]-Q[n+a]):\n",
    "#    print(\"Inside loop\", n)\n",
    "#    Q[n]==Q[n+a]\n",
    "#    n = n + a\n",
    "#else:\n",
    "#    print(Q[n])\n",
    "#    print(n)"
   ]
  },
  {
   "cell_type": "code",
   "execution_count": 15,
   "metadata": {},
   "outputs": [],
   "source": [
    "n = 500\n",
    "#a=10\n",
    "#while abs(Q[n-a]-Q[n]) > 10*abs(Q[n]-Q[n+a]):\n",
    "#    print(\"Inside loop\", n)\n",
    "#    Q[n]==Q[n+a]\n",
    "#    n = n + a\n",
    "#else:\n",
    "#    print(Q[n])\n",
    "#    print(n)"
   ]
  },
  {
   "cell_type": "code",
   "execution_count": 16,
   "metadata": {},
   "outputs": [],
   "source": [
    "#n=9900\n",
    "#a=10\n",
    "#while abs(((Q[n]-Q[n-a])/a)) < 0.025:\n",
    "#    n = n-a\n",
    "#    if n < 0:\n",
    "#        break\n",
    "#    print(\"inside loop\", n)\n",
    "#else:\n",
    "#    print(Q[n])\n",
    "#    print(n)"
   ]
  },
  {
   "cell_type": "code",
   "execution_count": 17,
   "metadata": {},
   "outputs": [],
   "source": [
    "#n=9900\n",
    "#waarde1=(Q[n]+Q[n-1]+Q[n-2]+Q[n-3]+Q[n-4]+Q[n-5]+Q[n-6]+Q[n-7]+Q[n-8]+Q[n-9])/10\n",
    "#waarde2=(Q[n-10]+Q[n-11]+Q[n-12]+Q[n-13]+Q[n-14]+Q[n-15]+Q[n-16]+Q[n-17]+Q[n-18]+Q[n-19])/10\n",
    "#verschil=waarde1-waarde2\n",
    "#verschil"
   ]
  },
  {
   "cell_type": "code",
   "execution_count": 18,
   "metadata": {},
   "outputs": [],
   "source": [
    "#waarde2"
   ]
  },
  {
   "cell_type": "code",
   "execution_count": 19,
   "metadata": {},
   "outputs": [],
   "source": [
    "#a=10\n",
    "#while abs((waarde1-waarde2)/10) > -0.1:   #delen door 10 meot delen door tijdsverschil zijn\n",
    "#    n = n-a\n",
    "#    if n < 0:\n",
    "#        break\n",
    "#    print(\"inside loop\", n)\n",
    "#else:\n",
    "#    print(waarde2)\n",
    "#    print(n)"
   ]
  },
  {
   "cell_type": "code",
   "execution_count": 20,
   "metadata": {},
   "outputs": [],
   "source": [
    "#n=4570\n",
    "#waarde1=(Q[n]+Q[n-1]+Q[n-2]+Q[n-3]+Q[n-4]+Q[n-5]+Q[n-6]+Q[n-7]+Q[n-8]+Q[n-9])/10\n",
    "#waarde2=(Q[n-10]+Q[n-11]+Q[n-12]+Q[n-13]+Q[n-14]+Q[n-15]+Q[n-16]+Q[n-17]+Q[n-18]+Q[n-19])/10\n",
    "#a=10\n",
    "#while abs((waarde1-waarde2)/(t[n]-t[n-a])) < 0.00001: \n",
    "#    n = n-10\n",
    "#    if n < 0:\n",
    "#        break\n",
    "#    print(abs((waarde1-waarde2)/(t[n]-t[n-a])))\n",
    "#    print(\"inside loop\")\n",
    "#else:\n",
    "#    print(Q[n])\n",
    "#    print(n)"
   ]
  },
  {
   "cell_type": "code",
   "execution_count": null,
   "metadata": {},
   "outputs": [],
   "source": [
    "#n=50\n",
    "#waarde1\n",
    "#abs((waarde1-waarde2)/(t[n]-t[n-a]))"
   ]
  },
  {
   "cell_type": "code",
   "execution_count": null,
   "metadata": {},
   "outputs": [],
   "source": [
    "#n=29\n",
    "#a=10\n",
    "#waarde1=(Q[n]+Q[n-1]+Q[n-2]+Q[n-3]+Q[n-4]+Q[n-5]+Q[n-6]+Q[n-7]+Q[n-8]+Q[n-9])/10\n",
    "#waarde2=(Q[n-10]+Q[n-11]+Q[n-12]+Q[n-13]+Q[n-14]+Q[n-15]+Q[n-16]+Q[n-17]+Q[n-18]+Q[n-19])/10\n",
    "#abs((Q[n]-Q[n-a])/(t[n]-t[n-a]))"
   ]
  },
  {
   "cell_type": "code",
   "execution_count": null,
   "metadata": {},
   "outputs": [],
   "source": [
    "#data[11,2]"
   ]
  },
  {
   "cell_type": "code",
   "execution_count": null,
   "metadata": {},
   "outputs": [],
   "source": [
    "#n=100\n",
    "#x = (Q[n+1]-Q[n])/(t[n+1]-t[n])\n",
    "#while (Q[n+1]-Q[n])/(t[n+1]-t[n]) < -0.00001:\n",
    "#    n = n+1\n",
    "#    print(\"inside loop\", n)\n",
    "##    if n > 9000:\n",
    "##       break\n",
    "#print(\"The residual is:\", Q[n], n)\n",
    "#x"
   ]
  },
  {
   "cell_type": "code",
   "execution_count": null,
   "metadata": {},
   "outputs": [],
   "source": [
    "#n=0\n",
    "#teller=0\n",
    "#while teller < 100:\n",
    "#    if abs((Q[n+1]-Q[n])/(t[n+1]-t[n])) < 0.00001:\n",
    "#        teller=teller+1 #telt hoe lang de afgeleide binnen het bereik valt\n",
    "#    else: \n",
    "#        teller=0\n",
    "#    n=n+1 \n",
    "#print(\"The residual value is:\", Q[n])"
   ]
  },
  {
   "cell_type": "code",
   "execution_count": null,
   "metadata": {},
   "outputs": [],
   "source": [
    "#n=0\n",
    "#teller=0\n",
    "#while teller < 200:\n",
    "#    if abs((Q[n+1]-Q[n])/(t[n+1]-t[n])) < 0.00001:\n",
    "#        teller=teller+1 #telt hoe lang de afgeleide binnen het bereik valt\n",
    "#    else: \n",
    "#        teller=0\n",
    "#    n=n+1 \n",
    "#print(\"The residual value is:\", Q[n])"
   ]
  },
  {
   "cell_type": "code",
   "execution_count": null,
   "metadata": {},
   "outputs": [],
   "source": [
    "#n=0\n",
    "#teller=0\n",
    "#while teller < 400:\n",
    "#    if abs((Q[n+1]-Q[n])/(t[n+1]-t[n])) < 0.00001:\n",
    "#        teller=teller+1 #telt hoe lang de afgeleide binnen het bereik valt\n",
    "#    else: \n",
    "#        teller=0\n",
    "#    n=n+1 \n",
    "#print(\"The residual value is:\", Q[n],t[n])"
   ]
  },
  {
   "cell_type": "code",
   "execution_count": null,
   "metadata": {},
   "outputs": [],
   "source": [
    "#n=0\n",
    "#teller=0\n",
    "#while teller < 1000:\n",
    "#    if abs((Q[n+1]-Q[n])/(t[n+1]-t[n])) < 0.00001:\n",
    "#        teller=teller+1 #telt hoe lang de afgeleide binnen het bereik valt\n",
    "#    else: \n",
    "#        teller=0\n",
    "#    n=n+1 \n",
    "#print(\"The residual value is:\", Q[n])"
   ]
  },
  {
   "cell_type": "code",
   "execution_count": null,
   "metadata": {},
   "outputs": [],
   "source": [
    "n=0\n",
    "teller=0\n",
    "residual=0\n",
    "while teller < 3000:\n",
    "    if abs((Q[n+1]-Q[n])/(t[n+1]-t[n])) < 0.00001:\n",
    "        teller=teller+1 #telt hoe lang de afgeleide binnen het bereik valt\n",
    "        residual=((residual*n)+Q[n])/(n+1) #to get as residual the average over all the Q values in the region where the absolute value of the derivative is less than 0.00001\n",
    "    else: \n",
    "        teller=0\n",
    "        residual=0\n",
    "    n=n+1 \n",
    "print(\"The residual value is:\", residual)\n",
    "print(\"rough range of Q values for determining average residual:\", Q[n-3000], Q[n])\n",
    "print(\"time range for determining average residual:\",t[n-3000],t[n])"
   ]
  },
  {
   "cell_type": "code",
   "execution_count": null,
   "metadata": {},
   "outputs": [],
   "source": [
    "n=0\n",
    "teller=0\n",
    "residual=0\n",
    "nfix=0\n",
    "while teller < 3000:\n",
    "    if abs((Q[n+1]-Q[n])/(t[n+1]-t[n])) < 0.00001:\n",
    "        teller=teller+1 #telt hoe lang de afgeleide binnen het bereik valt\n",
    "        residual=(residual*(n-nfix)+Q[n])/(n+1-nfix)#to get as residual the average over all the Q values in the region where the absolute value of the derivative is less than 0.00001\n",
    "    else:\n",
    "        teller=0\n",
    "        residual=0\n",
    "        nfix = (n+1)\n",
    "    n=n+1\n",
    "print(\"The residual value is:\", residual)\n",
    "print(\"rough range of Q values for determining average residual:\", Q[n-3000], Q[n])\n",
    "print(\"time range for determining average residual:\",t[n-3000],t[n])"
   ]
  },
  {
   "cell_type": "code",
   "execution_count": null,
   "metadata": {},
   "outputs": [],
   "source": [
    "#W7Xsds036 43687"
   ]
  },
  {
   "cell_type": "code",
   "execution_count": null,
   "metadata": {},
   "outputs": [],
   "source": [
    "#n=0\n",
    "#teller=0\n",
    "#while teller < 600:\n",
    "#    if abs((Q[n+1]-Q[n])/(t[n+1]-t[n])) < 0.000005: \n",
    "#        teller=teller+1 #telt hoe lang de afgeleide binnen het bereik valt\n",
    "#    else: \n",
    "#        teller=0\n",
    "#    n=n+1 \n",
    "#print(\"The residual value is:\", Q[n])"
   ]
  },
  {
   "cell_type": "code",
   "execution_count": null,
   "metadata": {},
   "outputs": [],
   "source": [
    "#n=0\n",
    "#teller=0\n",
    "#while teller < 400:\n",
    "#    if abs((Q[n+1]-Q[n])/(t[n+1]-t[n])) < 0.00001:\n",
    "#        teller=teller+1 #telt hoe lang de afgeleide binnen het bereik valt\n",
    "#    else: \n",
    "#        teller=0\n",
    "#    n=n+1 \n",
    "#print(\"The residual value is:\", Q[n])"
   ]
  },
  {
   "cell_type": "code",
   "execution_count": null,
   "metadata": {},
   "outputs": [],
   "source": [
    "#n=0\n",
    "#teller=0\n",
    "#while teller < 400:\n",
    "#    if abs((Q[n+1]-Q[n])/(t[n+1]-t[n])) < 0.00001:\n",
    "#        teller=teller+1 #telt hoe lang de afgeleide binnen het bereik valt\n",
    "#    else: \n",
    "#        teller=0\n",
    "#    n=n+1 \n",
    "#print(\"The residual value is:\", Q[n],t[n])"
   ]
  },
  {
   "cell_type": "code",
   "execution_count": null,
   "metadata": {},
   "outputs": [],
   "source": [
    "#n=0\n",
    "#teller=0\n",
    "#while teller < 1000:\n",
    "#    if abs((Q[n+1]-Q[n])/(t[n+1]-t[n])) < 0.00001:\n",
    "#        teller=teller+1 #telt hoe lang de afgeleide binnen het bereik valt\n",
    "#    else: \n",
    "#        teller=0\n",
    "#    n=n+1 \n",
    "#print(\"The residual value is:\", Q[n])"
   ]
  },
  {
   "cell_type": "code",
   "execution_count": null,
   "metadata": {},
   "outputs": [],
   "source": [
    "n=0\n",
    "teller=0\n",
    "residual=0\n",
    "while teller < 1900:\n",
    "    if abs((Q[n+1]-Q[n])/(t[n+1]-t[n])) < 0.00001:\n",
    "        teller=teller+1 #telt hoe lang de afgeleide binnen het bereik valt\n",
    "        residual=((residual*n)+Q[n])/(n+1) #to get as residual the average over all the Q values in the region where the absolute value of the derivative is less than 0.00001\n",
    "    else: \n",
    "        teller=0\n",
    "        residual=0\n",
    "    n=n+1 \n",
    "print(\"The residual value is:\", residual)\n",
    "print(\"rough range of Q values for determining average residual:\", Q[n-1900], Q[n])\n",
    "print(\"time range for determining average residual:\",t[n-1900],t[n])"
   ]
  },
  {
   "cell_type": "code",
   "execution_count": null,
   "metadata": {},
   "outputs": [],
   "source": [
    "n=0\n",
    "teller=0\n",
    "residual=0\n",
    "nfix=0\n",
    "while teller < 1900:\n",
    "    if abs((Q[n+1]-Q[n])/(t[n+1]-t[n])) < 0.00001:\n",
    "        teller=teller+1 #telt hoe lang de afgeleide binnen het bereik valt\n",
    "        residual=(residual*(n-nfix)+Q[n])/(n+1-nfix)#to get as residual the average over all the Q values in the region where the absolute value of the derivative is less than 0.00001\n",
    "    else:\n",
    "        teller=0\n",
    "        residual=0\n",
    "        nfix = (n+1)\n",
    "    n=n+1\n",
    "print(\"The residual value is:\", residual)\n",
    "print(\"rough range of Q values for determining average residual:\", Q[n-1900], Q[n])\n",
    "print(\"time range for determining average residual:\",t[n-1900],t[n])"
   ]
  },
  {
   "cell_type": "code",
   "execution_count": null,
   "metadata": {},
   "outputs": [],
   "source": [
    "W7Xsds06 104719"
   ]
  },
  {
   "cell_type": "code",
   "execution_count": null,
   "metadata": {},
   "outputs": [],
   "source": [
    "n=0\n",
    "teller=0\n",
    "while teller < 400:\n",
    "    if abs((Q[n+1]-Q[n])/(t[n+1]-t[n])) < 0.00001:\n",
    "        teller=teller+1 #telt hoe lang de afgeleide binnen het bereik valt\n",
    "    else: \n",
    "        teller=0\n",
    "    n=n+1 \n",
    "print(\"The residual value is:\", Q[n])"
   ]
  },
  {
   "cell_type": "code",
   "execution_count": null,
   "metadata": {},
   "outputs": [],
   "source": [
    "n=0\n",
    "teller=0\n",
    "residual=0\n",
    "while teller < 1100:\n",
    "    if abs((Q[n+1]-Q[n])/(t[n+1]-t[n])) < 0.00001:\n",
    "        teller=teller+1 #telt hoe lang de afgeleide binnen het bereik valt\n",
    "        residual=((residual*n)+Q[n])/(n+1) #to get as residual the average over all the Q values in the region where the absolute value of the derivative is less than 0.00001\n",
    "    else: \n",
    "        teller=0\n",
    "        residual=0\n",
    "    n=n+1 \n",
    "print(\"The residual value is:\", residual)\n",
    "print(\"rough range of Q values for determining average residual:\", Q[n-1100], Q[n])\n",
    "print(\"time range for determining average residual:\",t[n-1100],t[n])"
   ]
  },
  {
   "cell_type": "code",
   "execution_count": null,
   "metadata": {},
   "outputs": [],
   "source": [
    "n=0\n",
    "teller=0\n",
    "residual=0\n",
    "nfix=0\n",
    "while teller < 1100:\n",
    "    if abs((Q[n+1]-Q[n])/(t[n+1]-t[n])) < 0.00001:\n",
    "        teller=teller+1 #telt hoe lang de afgeleide binnen het bereik valt\n",
    "        residual=(residual*(n-nfix)+Q[n])/(n+1-nfix)#to get as residual the average over all the Q values in the region where the absolute value of the derivative is less than 0.00001\n",
    "    else:\n",
    "        teller=0\n",
    "        residual=0\n",
    "        nfix = (n+1)\n",
    "    n=n+1\n",
    "print(\"The residual value is:\", residual)\n",
    "print(\"rough range of Q values for determining average residual:\", Q[n-1100], Q[n])\n",
    "print(\"time range for determining average residual:\",t[n-1100],t[n])"
   ]
  },
  {
   "cell_type": "code",
   "execution_count": null,
   "metadata": {},
   "outputs": [],
   "source": [
    "W7Xsds06 198992"
   ]
  },
  {
   "cell_type": "code",
   "execution_count": null,
   "metadata": {},
   "outputs": [],
   "source": [
    "n=0\n",
    "teller=0\n",
    "while teller < 400:\n",
    "    if abs((Q[n+1]-Q[n])/(t[n+1]-t[n])) < 0.00001:\n",
    "        teller=teller+1 #telt hoe lang de afgeleide binnen het bereik valt\n",
    "    else: \n",
    "        teller=0\n",
    "    n=n+1 \n",
    "print(\"The residual value is:\", Q[n])"
   ]
  },
  {
   "cell_type": "code",
   "execution_count": null,
   "metadata": {},
   "outputs": [],
   "source": [
    "n=0\n",
    "teller=0\n",
    "residual=0\n",
    "while teller < 1600:\n",
    "    if abs((Q[n+1]-Q[n])/(t[n+1]-t[n])) < 0.00001:\n",
    "        teller=teller+1 #telt hoe lang de afgeleide binnen het bereik valt\n",
    "        residual=((residual*n)+Q[n])/(n+1) #to get as residual the average over all the Q values in the region where the absolute value of the derivative is less than 0.00001\n",
    "    else: \n",
    "        teller=0\n",
    "        residual=0\n",
    "    n=n+1 \n",
    "print(\"The residual value is:\", residual)\n",
    "print(\"rough range of Q values for determining average residual:\", Q[n-1600], Q[n])\n",
    "print(\"time range for determining average residual:\",t[n-1600],t[n])"
   ]
  },
  {
   "cell_type": "code",
   "execution_count": null,
   "metadata": {},
   "outputs": [],
   "source": [
    "n=0\n",
    "teller=0\n",
    "residual=0\n",
    "nfix=0\n",
    "while teller < 1600:\n",
    "    if abs((Q[n+1]-Q[n])/(t[n+1]-t[n])) < 0.00001:\n",
    "        teller=teller+1 #telt hoe lang de afgeleide binnen het bereik valt\n",
    "        residual=(residual*(n-nfix)+Q[n])/(n+1-nfix)#to get as residual the average over all the Q values in the region where the absolute value of the derivative is less than 0.00001\n",
    "    else:\n",
    "        teller=0\n",
    "        residual=0\n",
    "        nfix = (n+1)\n",
    "    n=n+1\n",
    "print(\"The residual value is:\", residual)\n",
    "print(\"rough range of Q values for determining average residual:\", Q[n-1600], Q[n])\n",
    "print(\"time range for determining average residual:\",t[n-1600],t[n])"
   ]
  },
  {
   "cell_type": "code",
   "execution_count": null,
   "metadata": {},
   "outputs": [],
   "source": [
    "W7Xsds09 59.952"
   ]
  },
  {
   "cell_type": "code",
   "execution_count": null,
   "metadata": {},
   "outputs": [],
   "source": [
    "#gives not really a residual value with this range of derivative\n",
    "n=0\n",
    "teller=0\n",
    "while teller < 400:\n",
    "    if abs((Q[n+1]-Q[n])/(t[n+1]-t[n])) < 0.00001:\n",
    "        teller=teller+1 #telt hoe lang de afgeleide binnen het bereik valt\n",
    "    else: \n",
    "        teller=0\n",
    "    n=n+1 \n",
    "print(\"The residual value is:\", Q[n])"
   ]
  },
  {
   "cell_type": "code",
   "execution_count": null,
   "metadata": {},
   "outputs": [],
   "source": [
    "#bigger derivatives taken into account\n",
    "n=0\n",
    "teller=0\n",
    "residual=0\n",
    "while teller < 2800:\n",
    "    if abs((Q[n+1]-Q[n])/(t[n+1]-t[n])) < 0.0001:\n",
    "        teller=teller+1 #telt hoe lang de afgeleide binnen het bereik valt\n",
    "        residual=((residual*n)+Q[n])/(n+1) #to get as residual the average over all the Q values in the region where the absolute value of the derivative is less than 0.00001\n",
    "    else: \n",
    "        teller=0\n",
    "        residual=0\n",
    "    n=n+1 \n",
    "print(\"The residual value is:\", residual)\n",
    "print(\"rough range of Q values for determining average residual:\", Q[n-2800], Q[n])\n",
    "print(\"time range for determining average residual:\",t[n-2800],t[n])"
   ]
  },
  {
   "cell_type": "code",
   "execution_count": null,
   "metadata": {},
   "outputs": [],
   "source": [
    "#bigger derivatives taken into account\n",
    "n=0\n",
    "teller=0\n",
    "residual=0\n",
    "nfix=0\n",
    "while teller < 2800:\n",
    "    if abs((Q[n+1]-Q[n])/(t[n+1]-t[n])) < 0.0001:\n",
    "        teller=teller+1 #telt hoe lang de afgeleide binnen het bereik valt\n",
    "        residual=(residual*(n-nfix)+Q[n])/(n+1-nfix)#to get as residual the average over all the Q values in the region where the absolute value of the derivative is less than 0.00001\n",
    "    else:\n",
    "        teller=0\n",
    "        residual=0\n",
    "        nfix = (n+1)\n",
    "    n=n+1\n",
    "print(\"The residual value is:\", residual)\n",
    "print(\"rough range of Q values for determining average residual:\", Q[n-2800], Q[n])\n",
    "print(\"time range for determining average residual:\",t[n-2800],t[n])"
   ]
  }
 ],
 "metadata": {
  "kernelspec": {
   "display_name": "Python 3",
   "language": "python",
   "name": "python3"
  },
  "language_info": {
   "codemirror_mode": {
    "name": "ipython",
    "version": 3
   },
   "file_extension": ".py",
   "mimetype": "text/x-python",
   "name": "python",
   "nbconvert_exporter": "python",
   "pygments_lexer": "ipython3",
   "version": "3.7.3"
  }
 },
 "nbformat": 4,
 "nbformat_minor": 2
}
